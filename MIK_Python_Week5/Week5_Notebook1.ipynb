{
 "cells": [
  {
   "cell_type": "markdown",
   "metadata": {},
   "source": [
    "<img src=\"images/MIK.png\" style=\"width:375px;height:200px;\">"
   ]
  },
  {
   "cell_type": "markdown",
   "metadata": {},
   "source": [
    "## <center> MIK - Python for beginners: Regular Expressions</center>\n",
    "### <center>by Ivaldo Tributino and Marcos Machado</center>"
   ]
  },
  {
   "cell_type": "markdown",
   "metadata": {},
   "source": [
    "## Introduction\n",
    "\n",
    "Searching and extracting information from text is so common that Python has a very powerful library called `regular expressions` that handles many of these tasks quite elegantly. \n",
    "\n",
    "<img src=\"images/regular_ex.png\" style=\"width:525px;height:300px;\">\n",
    "\n",
    "`Regular Expression` is a sequence of characters that forms a search pattern. The characters above can be used to check if a string contains a specified search pattern.\n",
    "\n",
    "Regular expressions are almost their own little programming language for searching and parsing strings. In this notebook, we will only cover the very basics of regular expressions. For more details, see:\n",
    "https://docs.python.org/3/library/re.html\n",
    "\n",
    "**Note:**\n",
    "The regular expression library `re` must be imported into your program before you can use it. The simplest use of the regular expression library is the `search()` function. The following program demonstrates a trivial use of the search function."
   ]
  },
  {
   "cell_type": "code",
   "execution_count": 1,
   "metadata": {},
   "outputs": [
    {
     "name": "stdout",
     "output_type": "stream",
     "text": [
      "Ivaldo Tributino de Sousa Joined 7/27/2021, 1:28:33 PM\n",
      "Tributino Ivaldo de Sousa Joined 7/27/2021, 1:28:33 PM\n"
     ]
    }
   ],
   "source": [
    "import re  # Importing re module\n",
    "\n",
    "fhand = open('attendance.txt')\n",
    "for line in fhand:\n",
    "    line = line.rstrip()\n",
    "    if re.search('Ivaldo',line):  # Try Ivaldo and if line.find('Ivaldo')!=-1:\n",
    "        print(line)"
   ]
  },
  {
   "cell_type": "code",
   "execution_count": 2,
   "metadata": {},
   "outputs": [
    {
     "name": "stdout",
     "output_type": "stream",
     "text": [
      "Ivaldo Tributino de Sousa Joined 7/27/2021, 1:28:33 PM\n",
      "Tributino Ivaldo de Sousa Joined 7/27/2021, 1:28:33 PM\n"
     ]
    }
   ],
   "source": [
    "fhand = open('attendance.txt')\n",
    "for line in fhand:\n",
    "    line = line.rstrip()\n",
    "    if line.find('Ivaldo')!= -1:  \n",
    "        print(line)"
   ]
  },
  {
   "cell_type": "markdown",
   "metadata": {},
   "source": [
    "The power of the `regular expressions` can be seen when we add special characters to the search string that allow us to control which lines match the string. Adding these special characters to our regular expression allow us to do `sophisticated matching` and extraction while writing very little code.\n",
    "\n",
    "For example, the caret character is used in regular expressions to match “the beginning” of a line. We could change our program to only match lines where “Ivaldo” was at the beginning of the line as follows:"
   ]
  },
  {
   "cell_type": "code",
   "execution_count": 3,
   "metadata": {},
   "outputs": [
    {
     "name": "stdout",
     "output_type": "stream",
     "text": [
      "Ivaldo Tributino de Sousa Joined 7/27/2021, 1:28:33 PM\n"
     ]
    }
   ],
   "source": [
    "fhand = open('attendance.txt')\n",
    "for line in fhand:\n",
    "    line = line.rstrip()\n",
    "    if re.search('^Ivaldo', line): # Try ^Ivaldo and     if line.startswith('Ivaldo'):\n",
    "        print(line)"
   ]
  },
  {
   "cell_type": "markdown",
   "metadata": {},
   "source": [
    "Now we will only match lines that start with the string “Ivaldo”. This is still a very simple example that we could have done equivalently with the` startswith()` method from the string library. But it serves to introduce the notion that regular expressions contain special action characters that give us more control as to what will match the regular expression."
   ]
  },
  {
   "cell_type": "code",
   "execution_count": 4,
   "metadata": {},
   "outputs": [
    {
     "name": "stdout",
     "output_type": "stream",
     "text": [
      "Ivaldo Tributino de Sousa Joined 7/27/2021, 1:28:33 PM\n"
     ]
    }
   ],
   "source": [
    "fhand = open('attendance.txt')\n",
    "for line in fhand:\n",
    "    line = line.rstrip()\n",
    "    if line.startswith('Ivaldo'): \n",
    "        print(line)"
   ]
  },
  {
   "cell_type": "markdown",
   "metadata": {},
   "source": [
    "## Character matching in regular expressions\n",
    "\n",
    "There are a number of other special characters that let us build even more powerful regular expressions. The most commonly used special character is the `period` or `full stop`, which matches any character.\n",
    "\n",
    "For example, the regular expression `F..m:` would match any of the strings `“From:”`, `“Fxxm:”`, `“F12m:”`, or `“F!@m:”` since the period characters in the regular expression match any character."
   ]
  },
  {
   "cell_type": "code",
   "execution_count": 5,
   "metadata": {},
   "outputs": [
    {
     "name": "stdout",
     "output_type": "stream",
     "text": [
      "Ivaldo Tributino de Sousa Joined 7/27/2021, 1:28:33 PM\n",
      "Tributino Ivaldo de Sousa Joined 7/27/2021, 1:28:33 PM\n",
      "Roberto Moura Joined 7/27/2021, 1:28:33 PM\n",
      "Karine Oliveira Joined 7/27/2021, 1:28:33 PM\n",
      "Sophia Oliveira Joined 7/27/2021, 1:28:33 PM\n",
      "Lidiany Tributino Joined 7/27/2021, 1:28:33 PM\n",
      "Jose Valdir Joined 7/27/2021, 1:28:33 PM\n",
      "Leidiane Mercedes Joined 7/27/2021, 1:28:33 PM\n",
      "Francisco de Assis Joined 7/27/2021, 1:28:54 PM\n",
      "Olivia Smith Joined 7/27/2021, 1:28:58 PM\n",
      "Emma Brown Join 7/27/2021, 1:30:46 PM\n",
      "Emma Brown Joined 7/27/2021, 3:10:10 PM\n",
      "Emma Brown Joined 7/27/2021, 3:20:02 PM\n",
      "Amelia Tremblay Joined 7/27/2021, 1:31:03 PM\n",
      "Amelia Tremblay Joined 7/27/2021, 2:06:12 PM\n",
      "Aria Martin Joined 7/27/2021, 1:32:26 PM\n"
     ]
    }
   ],
   "source": [
    "fhand = open('attendance.txt')\n",
    "for line in fhand:\n",
    "    line = line.rstrip()\n",
    "    if re.search('J..n', line): # Try Joined, Join and J..n\n",
    "        print(line)"
   ]
  },
  {
   "cell_type": "markdown",
   "metadata": {},
   "source": [
    "Let's say you don't know how to spell 'Ivaldo'. However, you know that it starts with `\"I\"` and ends with \"`o`\". How can we find the name if we don't know how many characters there are between `\"I\"` and `\"o\"`.\n",
    "\n",
    "## <center>I____o</center>"
   ]
  },
  {
   "cell_type": "code",
   "execution_count": 6,
   "metadata": {},
   "outputs": [
    {
     "name": "stdout",
     "output_type": "stream",
     "text": [
      "Ivaldo Tributino de Sousa Joined 7/27/2021, 1:28:33 PM\n",
      "Tributino Ivaldo de Sousa Joined 7/27/2021, 1:28:33 PM\n"
     ]
    }
   ],
   "source": [
    "fhand = open('attendance.txt')\n",
    "for line in fhand:\n",
    "    line = line.rstrip()\n",
    "    if re.search('I\\S+o', line): #  try I..o and I.+o or I.*o\n",
    "        print(line)"
   ]
  },
  {
   "cell_type": "markdown",
   "metadata": {},
   "source": [
    "It is good to think of the `plus` and `asterisk` characters as “pushy”. For example, the following string would match the last `o` in the string as the .+ pushes outwards, as shown below:"
   ]
  },
  {
   "cell_type": "code",
   "execution_count": 7,
   "metadata": {},
   "outputs": [
    {
     "name": "stdout",
     "output_type": "stream",
     "text": [
      "I am not an impresario\n",
      "Ivaldo\n"
     ]
    }
   ],
   "source": [
    "line1 = 'I am not an impresario' #  produces entertainment, especially the director of an opera company.\n",
    "line2 = 'Ivaldo'\n",
    "lines = [line1, line2]\n",
    "for line in lines:\n",
    "    if re.search('I.*o', line): \n",
    "        print(line)"
   ]
  },
  {
   "cell_type": "markdown",
   "metadata": {},
   "source": [
    "It is possible to tell an asterisk or plus sign not to be so `“greedy”` by adding another character (matches as many characters as possible). However, in this exaple is better we use `non-whitespace character`."
   ]
  },
  {
   "cell_type": "code",
   "execution_count": 8,
   "metadata": {},
   "outputs": [
    {
     "name": "stdout",
     "output_type": "stream",
     "text": [
      "Ivaldo\n"
     ]
    }
   ],
   "source": [
    "for line in lines:\n",
    "    if re.search('I\\S*o', line): # try 'I.*o', 'I\\S+o' and 'I\\S+'\n",
    "        print(line)"
   ]
  },
  {
   "cell_type": "markdown",
   "metadata": {},
   "source": [
    "## Extracting data using regular expressions\n",
    "\n",
    "If we want to extract data from a string in Python we can use the `findall()` method to extract all of the `substrings` which match a regular expression. Let’s use the example of wanting to extract anything that looks like a time."
   ]
  },
  {
   "cell_type": "code",
   "execution_count": 9,
   "metadata": {},
   "outputs": [
    {
     "name": "stdout",
     "output_type": "stream",
     "text": [
      "['01', '32', '24', '02', '56', '54']\n"
     ]
    }
   ],
   "source": [
    "s = 'I joined the meeting at 01:32:24 and left the meeting at 02:56:54'\n",
    "lst = re.findall('[0-9][0-9]', s) # try [0-9], [0-9][0-9], [0-9]+\n",
    "print(lst)"
   ]
  },
  {
   "cell_type": "code",
   "execution_count": 10,
   "metadata": {},
   "outputs": [
    {
     "name": "stdout",
     "output_type": "stream",
     "text": [
      "[1, 32, 24, 2, 56, 54]\n",
      "I spent 84 minutes in the meeting\n"
     ]
    }
   ],
   "source": [
    "lst = list(map(int, lst))\n",
    "print(lst)\n",
    "h = (lst[3]-lst[0])*60\n",
    "m = (lst[4]-lst[1])\n",
    "s = (lst[5]-lst[3])/60\n",
    "t = int(h+m+s)      # int(h+m+s,2) is better\n",
    "print('I spent %g minutes in the meeting' %t)        "
   ]
  },
  {
   "cell_type": "markdown",
   "metadata": {},
   "source": [
    "Another example from the book Python for Everybody"
   ]
  },
  {
   "cell_type": "code",
   "execution_count": 11,
   "metadata": {},
   "outputs": [
    {
     "name": "stdout",
     "output_type": "stream",
     "text": [
      "['csev@umich.edu', 'cwen@iupui.edu']\n"
     ]
    }
   ],
   "source": [
    "s = 'A message from csev@umich.edu to cwen@iupui.edu about meeting @2PM'\n",
    "lst = re.findall('\\S+@\\S+', s) # try '\\s@\\S+', '@+\\S'\n",
    "print(lst)"
   ]
  },
  {
   "cell_type": "markdown",
   "metadata": {},
   "source": [
    "Translating the regular expression, we are looking for substrings that have at least one non-whitespace character, followed by an `@`, followed by at least one more non-whitespace character. The \\S+ matches as many non-whitespace characters as possible.\n",
    "\n",
    "The regular expression would match twice (`csev@umich.edu` and `cwen@iupui.edu`), but it would not match the string “@2PM” because there are no non-blank characters before the at-sign. We can use this regular expression in a program to read all the lines in a file and print out anything that looks like an email address as follows:"
   ]
  },
  {
   "cell_type": "markdown",
   "metadata": {},
   "source": [
    "## Combining searching and extracting\n",
    "\n",
    "Let's translate the code below:"
   ]
  },
  {
   "cell_type": "code",
   "execution_count": 12,
   "metadata": {},
   "outputs": [
    {
     "name": "stdout",
     "output_type": "stream",
     "text": [
      "X-DSPAM-Confidence: 0.8475\n",
      "X-DSPAM-Probability: 0.0000\n",
      "X-DSPAM-Confidence: 0.6178\n",
      "X-DSPAM-Probability: 0.0000\n",
      "X-DSPAM-Confidence: 0.6961\n",
      "X-DSPAM-Probability: 0.0000\n",
      "X-DSPAM-Confidence: 0.7565\n",
      "X-DSPAM-Probability: 0.0000\n",
      "X-DSPAM-Confidence: 0.7626\n",
      "X-DSPAM-Probability: 0.0000\n",
      "X-DSPAM-Confidence: 0.7556\n",
      "X-DSPAM-Probability: 0.0000\n",
      "X-DSPAM-Confidence: 0.7002\n",
      "X-DSPAM-Probability: 0.0000\n",
      "X-DSPAM-Confidence: 0.7615\n",
      "X-DSPAM-Probability: 0.0000\n",
      "X-DSPAM-Confidence: 0.7601\n",
      "X-DSPAM-Probability: 0.0000\n",
      "X-DSPAM-Confidence: 0.7605\n",
      "X-DSPAM-Probability: 0.0000\n",
      "X-DSPAM-Confidence: 0.6959\n",
      "X-DSPAM-Probability: 0.0000\n",
      "X-DSPAM-Confidence: 0.7606\n",
      "X-DSPAM-Probability: 0.0000\n",
      "X-DSPAM-Confidence: 0.7559\n",
      "X-DSPAM-Probability: 0.0000\n",
      "X-DSPAM-Confidence: 0.7605\n",
      "X-DSPAM-Probability: 0.0000\n",
      "X-DSPAM-Confidence: 0.6932\n",
      "X-DSPAM-Probability: 0.0000\n",
      "X-DSPAM-Confidence: 0.7558\n",
      "X-DSPAM-Probability: 0.0000\n",
      "X-DSPAM-Confidence: 0.6526\n",
      "X-DSPAM-Probability: 0.0000\n",
      "X-DSPAM-Confidence: 0.6948\n",
      "X-DSPAM-Probability: 0.0000\n",
      "X-DSPAM-Confidence: 0.6528\n",
      "X-DSPAM-Probability: 0.0000\n",
      "X-DSPAM-Confidence: 0.7002\n",
      "X-DSPAM-Probability: 0.0000\n",
      "X-DSPAM-Confidence: 0.7554\n",
      "X-DSPAM-Probability: 0.0000\n",
      "X-DSPAM-Confidence: 0.6956\n",
      "X-DSPAM-Probability: 0.0000\n",
      "X-DSPAM-Confidence: 0.6959\n",
      "X-DSPAM-Probability: 0.0000\n",
      "X-DSPAM-Confidence: 0.7556\n",
      "X-DSPAM-Probability: 0.0000\n",
      "X-DSPAM-Confidence: 0.9846\n",
      "X-DSPAM-Probability: 0.0000\n",
      "X-DSPAM-Confidence: 0.8509\n",
      "X-DSPAM-Probability: 0.0000\n",
      "X-DSPAM-Confidence: 0.9907\n",
      "X-DSPAM-Probability: 0.0000\n"
     ]
    }
   ],
   "source": [
    "fhand = open('mbox-short.txt') \n",
    "for line in fhand:\n",
    "    line = line.rstrip()\n",
    "    if re.search('^X\\S*: [0-9.]+', line):\n",
    "        print(line)    "
   ]
  },
  {
   "cell_type": "markdown",
   "metadata": {},
   "source": [
    "**Note:**\n",
    "\n",
    "`Parentheses` are another special character in regular expressions. When you add `parentheses` to a regular expression, they are ignored when matching the string. But when you are using `findall()`, parentheses indicate that while you want the whole expression to match, you only are interested in `extracting` a portion of the substring that matches the regular expression."
   ]
  },
  {
   "cell_type": "code",
   "execution_count": 13,
   "metadata": {},
   "outputs": [
    {
     "name": "stdout",
     "output_type": "stream",
     "text": [
      "['0.8475']\n",
      "['0.0000']\n",
      "['0.6178']\n",
      "['0.0000']\n",
      "['0.6961']\n",
      "['0.0000']\n",
      "['0.7565']\n",
      "['0.0000']\n",
      "['0.7626']\n",
      "['0.0000']\n",
      "['0.7556']\n",
      "['0.0000']\n",
      "['0.7002']\n",
      "['0.0000']\n",
      "['0.7615']\n",
      "['0.0000']\n",
      "['0.7601']\n",
      "['0.0000']\n",
      "['0.7605']\n",
      "['0.0000']\n",
      "['0.6959']\n",
      "['0.0000']\n",
      "['0.7606']\n",
      "['0.0000']\n",
      "['0.7559']\n",
      "['0.0000']\n",
      "['0.7605']\n",
      "['0.0000']\n",
      "['0.6932']\n",
      "['0.0000']\n",
      "['0.7558']\n",
      "['0.0000']\n",
      "['0.6526']\n",
      "['0.0000']\n",
      "['0.6948']\n",
      "['0.0000']\n",
      "['0.6528']\n",
      "['0.0000']\n",
      "['0.7002']\n",
      "['0.0000']\n",
      "['0.7554']\n",
      "['0.0000']\n",
      "['0.6956']\n",
      "['0.0000']\n",
      "['0.6959']\n",
      "['0.0000']\n",
      "['0.7556']\n",
      "['0.0000']\n",
      "['0.9846']\n",
      "['0.0000']\n",
      "['0.8509']\n",
      "['0.0000']\n",
      "['0.9907']\n",
      "['0.0000']\n"
     ]
    }
   ],
   "source": [
    "hand = open('mbox-short.txt')\n",
    "for line in hand:\n",
    "    line = line.rstrip()\n",
    "    x = re.findall('^X\\S*: ([0-9.]+)', line) # try ^X\\S*: ([0-9.]+)\n",
    "    if len(x) > 0:\n",
    "        print(x)"
   ]
  },
  {
   "cell_type": "markdown",
   "metadata": {},
   "source": [
    "Now, in the following example, we are interested in the time of day of each mail message. We looked for lines of the form:\n",
    "\n",
    "```\n",
    "From stephen.marquard@uct.ac.za Sat Jan  5 09:14:16 2008\n",
    "```\n",
    "\n",
    "Now we can use regular expressions to do this following the regular expression:\n",
    "\n",
    "```\n",
    "^From .* [0-9][0-9]:\n",
    "```\n",
    "\n",
    "The translation of this regular expression is that we are looking for lines that start `with From (note the space)`, followed by any number of characters `(.*)`, followed by a space, followed by two digits `[0-9][0-9]`, followed by a colon character. This is the definition of the types of lines we are looking for. In order to pull out only the hour using `findall()`, we add parentheses around the two digits as follows:\n",
    "```\n",
    "^From .* ([0-9][0-9]):\n",
    "```"
   ]
  },
  {
   "cell_type": "code",
   "execution_count": 14,
   "metadata": {},
   "outputs": [
    {
     "name": "stdout",
     "output_type": "stream",
     "text": [
      "['09']\n",
      "['18']\n",
      "['16']\n",
      "['15']\n",
      "['15']\n",
      "['14']\n",
      "['11']\n",
      "['11']\n",
      "['11']\n",
      "['11']\n",
      "['11']\n",
      "['11']\n",
      "['10']\n",
      "['10']\n",
      "['10']\n",
      "['09']\n",
      "['07']\n",
      "['06']\n",
      "['04']\n",
      "['04']\n",
      "['04']\n",
      "['19']\n",
      "['17']\n",
      "['17']\n",
      "['16']\n",
      "['16']\n",
      "['16']\n"
     ]
    }
   ],
   "source": [
    "fhand = open('mbox-short.txt')\n",
    "for line in fhand:\n",
    "    line = line.rstrip()\n",
    "    x = re.findall('^From.* ([0-9][0-9]):', line) \n",
    "    if len(x) > 0: \n",
    "        print(x)"
   ]
  },
  {
   "cell_type": "markdown",
   "metadata": {},
   "source": [
    "## Escape character\n",
    "\n",
    "\n",
    "Since we use special characters in regular expressions to match the beginning or end of a line or specify wild cards, we need a way to indicate that these characters are “normal” and we want to match the actual character such as a dollar sign, caret or paratheses.\n",
    "\n",
    "We can indicate that we want to simply match a character by prefixing that character with a `backslash`. For example, we can find money amounts with the following regular expression."
   ]
  },
  {
   "cell_type": "code",
   "execution_count": 15,
   "metadata": {},
   "outputs": [
    {
     "name": "stdout",
     "output_type": "stream",
     "text": [
      "The view from my window overlooked the wall of another building and the location \n",
      "        was not convenient. But other than that everything was perfect, the whole \n",
      "        staff was very attentive :).\n"
     ]
    }
   ],
   "source": [
    "comment = '''The view from my window overlooked the wall of another building and the location \n",
    "        was not convenient. But other than that everything was perfect, the whole \n",
    "        staff was very attentive :).'''\n",
    "print(comment)"
   ]
  },
  {
   "cell_type": "code",
   "execution_count": 16,
   "metadata": {},
   "outputs": [
    {
     "data": {
      "text/plain": [
       "[':)']"
      ]
     },
     "execution_count": 16,
     "metadata": {},
     "output_type": "execute_result"
    }
   ],
   "source": [
    "x = re.findall(':\\)',comment) \n",
    "x"
   ]
  },
  {
   "cell_type": "markdown",
   "metadata": {},
   "source": [
    "<img src=\"images/sent_analysis.png\" style=\"width:350px;height:175px;\">\n",
    "\n",
    "<center>Image from monkeylearn.com\n",
    "    \n",
    "If you want to know a little more about `Sentiment Analysis`, see: https://monkeylearn.com/sentiment-analysis/    "
   ]
  },
  {
   "cell_type": "code",
   "execution_count": 18,
   "metadata": {},
   "outputs": [
    {
     "data": {
      "text/plain": [
       "':)'"
      ]
     },
     "execution_count": 18,
     "metadata": {},
     "output_type": "execute_result"
    }
   ],
   "source": [
    "\":)\""
   ]
  },
  {
   "cell_type": "markdown",
   "metadata": {},
   "source": [
    "References:\n",
    "\n",
    "- Python for Everybody Exploring Data Using Python 3 by Dr. Charles R. Severance\n",
    "- https://medium.com/@chongye225/python-regular-expression-2ac91e084662"
   ]
  },
  {
   "cell_type": "markdown",
   "metadata": {},
   "source": [
    "<img align=\"right\" src=\"images/logo.png\" style=\"width:50px;height:50px;\">"
   ]
  },
  {
   "cell_type": "code",
   "execution_count": null,
   "metadata": {},
   "outputs": [],
   "source": []
  }
 ],
 "metadata": {
  "kernelspec": {
   "display_name": "Python 3",
   "language": "python",
   "name": "python3"
  },
  "language_info": {
   "codemirror_mode": {
    "name": "ipython",
    "version": 3
   },
   "file_extension": ".py",
   "mimetype": "text/x-python",
   "name": "python",
   "nbconvert_exporter": "python",
   "pygments_lexer": "ipython3",
   "version": "3.7.3"
  }
 },
 "nbformat": 4,
 "nbformat_minor": 4
}
