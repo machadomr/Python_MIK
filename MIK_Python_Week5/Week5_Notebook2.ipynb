{
 "cells": [
  {
   "cell_type": "markdown",
   "metadata": {},
   "source": [
    "<img src=\"images/MIK.png\" style=\"width:375px;height:200px;\">"
   ]
  },
  {
   "cell_type": "markdown",
   "metadata": {},
   "source": [
    "## <center> MIK - Python for beginners: Lists, Dictionaries and Tupless</center>\n",
    "### <center>by Ivaldo Tributino and Marcos Machado</center>"
   ]
  },
  {
   "cell_type": "markdown",
   "metadata": {},
   "source": [
    "## Lists\n",
    "\n",
    "Similar to a string, a list is a sequence of values. In a string, the values are characters; in a list, they can be `any type`. The values in lists are called `elements` or sometimes `items`. In Python, a list is created by placing all the items (elements) inside square brackets `[]`, separated by commas.\n",
    "\n",
    "Create a List:\n",
    "```python\n",
    "x = []  \n",
    "\n",
    "# or\n",
    "\n",
    "x = list()\n",
    "```\n",
    "\n",
    "- List items are `ordered`, `changeable`, and allow `duplicate` values.\n",
    "- If you add new items to a list, the new items will be placed at the end of the list.\n",
    "- List items are indexed, the first item has index `[0]`, the second item has index `[1]` etc."
   ]
  },
  {
   "cell_type": "code",
   "execution_count": 1,
   "metadata": {},
   "outputs": [
    {
     "data": {
      "text/plain": [
       "['MIK', 2021, ['a', 'b', 'c']]"
      ]
     },
     "execution_count": 1,
     "metadata": {},
     "output_type": "execute_result"
    }
   ],
   "source": [
    "# The elements of a list don’t have to be the same type. \n",
    "x = []                        # creating a list\n",
    "x.append('MIK')               # adding a string \n",
    "x.append(2021)                # adding a integer\n",
    "x.append(['a','b','c'])       # adding a list\n",
    "x"
   ]
  },
  {
   "cell_type": "markdown",
   "metadata": {},
   "source": [
    "### Lists are mutable\n",
    "\n",
    "We can change, add, and remove items in a list after it has been created.\n"
   ]
  },
  {
   "cell_type": "code",
   "execution_count": 2,
   "metadata": {},
   "outputs": [
    {
     "name": "stdout",
     "output_type": "stream",
     "text": [
      "MIK\n",
      "['MIK_tutors', 2021, ['a', 'b', 'c']]\n"
     ]
    }
   ],
   "source": [
    "print(x[0])\n",
    "x[0] = 'MIK_tutors'\n",
    "print(x)"
   ]
  },
  {
   "cell_type": "code",
   "execution_count": 3,
   "metadata": {},
   "outputs": [
    {
     "name": "stdout",
     "output_type": "stream",
     "text": [
      "['MIK_tutors', ['a', 'b', 'c']]\n",
      "['MIK_tutors']\n"
     ]
    }
   ],
   "source": [
    "x.remove(2021) # Remove an item by value\n",
    "print(x)\n",
    "x.pop(1)       # Remove an item by index and get its value\n",
    "print(x)"
   ]
  },
  {
   "cell_type": "markdown",
   "metadata": {},
   "source": [
    "You can also try `clear()` that remove all items or `del statement` that remove items by index or slice:\n",
    "\n",
    "```python\n",
    "l = list(range(10))\n",
    "l.clear()\n",
    "\n",
    "l = [x for x in range(10)]\n",
    "del l[3:5]\n",
    "```\n",
    "\n",
    "To see more methods: https://docs.python.org/3/tutorial/datastructures.html"
   ]
  },
  {
   "cell_type": "code",
   "execution_count": 4,
   "metadata": {},
   "outputs": [
    {
     "data": {
      "text/plain": [
       "[0, 1, 2, 5, 6, 7, 8, 9]"
      ]
     },
     "execution_count": 4,
     "metadata": {},
     "output_type": "execute_result"
    }
   ],
   "source": [
    "# Try the examples above\n",
    "l = [x for x in range(10)]\n",
    "del l[3:5]\n",
    "l"
   ]
  },
  {
   "cell_type": "markdown",
   "metadata": {},
   "source": [
    "### List Comprehensions\n",
    "\n",
    "`List comprehensions` provide a concise way to create lists. Common applications are to make new lists where each element is the result of some operations applied to each member of another sequence or iterable, or to create a subsequence of those elements that satisfy a certain condition. In others words, `list comprehension` is an elegant way to define and create lists based on existing lists.\n",
    "\n",
    "For example, assume we want to create a list of lists, like:\n"
   ]
  },
  {
   "cell_type": "code",
   "execution_count": 5,
   "metadata": {},
   "outputs": [
    {
     "data": {
      "text/plain": [
       "[[22, 24, 26, 28, 30, 32, 34, 36, 38, 40],\n",
       " [33, 36, 39, 42, 45, 48, 51, 54, 57, 60],\n",
       " [44, 48, 52, 56, 60, 64, 68, 72, 76, 80],\n",
       " [55, 60, 65, 70, 75, 80, 85, 90, 95, 100],\n",
       " [66, 72, 78, 84, 90, 96, 102, 108, 114, 120],\n",
       " [77, 84, 91, 98, 105, 112, 119, 126, 133, 140],\n",
       " [88, 96, 104, 112, 120, 128, 136, 144, 152, 160],\n",
       " [99, 108, 117, 126, 135, 144, 153, 162, 171, 180]]"
      ]
     },
     "execution_count": 5,
     "metadata": {},
     "output_type": "execute_result"
    }
   ],
   "source": [
    "def table_11_to_20(number):\n",
    "    l = []\n",
    "    for i in range(11,21):\n",
    "        l.append(i*number)\n",
    "    return l\n",
    "\n",
    "tableList = []\n",
    "for i in range(2,10):\n",
    "    l = table_11_to_20(i)\n",
    "    tableList.append(l)\n",
    "tableList    "
   ]
  },
  {
   "cell_type": "markdown",
   "metadata": {},
   "source": [
    "Let's improve the code above using `map()` function to execute the function `table_11_to_20` for each item in an iterable as `range(11,21)`.  "
   ]
  },
  {
   "cell_type": "code",
   "execution_count": 6,
   "metadata": {
    "scrolled": true
   },
   "outputs": [
    {
     "data": {
      "text/plain": [
       "[[22, 24, 26, 28, 30, 32, 34, 36, 38, 40],\n",
       " [33, 36, 39, 42, 45, 48, 51, 54, 57, 60],\n",
       " [44, 48, 52, 56, 60, 64, 68, 72, 76, 80],\n",
       " [55, 60, 65, 70, 75, 80, 85, 90, 95, 100],\n",
       " [66, 72, 78, 84, 90, 96, 102, 108, 114, 120],\n",
       " [77, 84, 91, 98, 105, 112, 119, 126, 133, 140],\n",
       " [88, 96, 104, 112, 120, 128, 136, 144, 152, 160],\n",
       " [99, 108, 117, 126, 135, 144, 153, 162, 171, 180]]"
      ]
     },
     "execution_count": 6,
     "metadata": {},
     "output_type": "execute_result"
    }
   ],
   "source": [
    "def table_11_to_20(number):\n",
    "    l = [x*number for x in range(11,21)]\n",
    "    return l\n",
    "\n",
    "tableList = list(map(table_11_to_20, range(2,10)))  # map(function, iterables)\n",
    "tableList                                           # Iterable is an object, which one can iterate over."
   ]
  },
  {
   "cell_type": "markdown",
   "metadata": {},
   "source": [
    "Finally, let's compress our code a little more into just one line. This will be possible through an anonymous function."
   ]
  },
  {
   "cell_type": "code",
   "execution_count": 7,
   "metadata": {},
   "outputs": [
    {
     "data": {
      "text/plain": [
       "[[22, 24, 26, 28, 30, 32, 34, 36, 38, 40],\n",
       " [33, 36, 39, 42, 45, 48, 51, 54, 57, 60],\n",
       " [44, 48, 52, 56, 60, 64, 68, 72, 76, 80],\n",
       " [55, 60, 65, 70, 75, 80, 85, 90, 95, 100],\n",
       " [66, 72, 78, 84, 90, 96, 102, 108, 114, 120],\n",
       " [77, 84, 91, 98, 105, 112, 119, 126, 133, 140],\n",
       " [88, 96, 104, 112, 120, 128, 136, 144, 152, 160],\n",
       " [99, 108, 117, 126, 135, 144, 153, 162, 171, 180]]"
      ]
     },
     "execution_count": 7,
     "metadata": {},
     "output_type": "execute_result"
    }
   ],
   "source": [
    "# lambda is a anonymous function, Syntax lambda arguments: expression\n",
    "# # lambda arguments : expression\n",
    "[list(map(lambda x: y*x, range(11,21))) for y in range(2,10)]"
   ]
  },
  {
   "cell_type": "markdown",
   "metadata": {},
   "source": [
    "## Dictionaries\n",
    "\n",
    "- Dictionaries are used to store data values in `key:value` pairs.\n",
    "\n",
    "- A dictionary is a collection which is `unordered`, `changeable` and does `not allow duplicates`.\n",
    "\n",
    "- Dictionaries are written with `curly brackets`.\n",
    "\n",
    "The function `dict` creates a new dictionary with no items. Because `dict` is the name of a built-in function, you should avoid using it as a variable name.\n",
    "\n",
    "Create a dictionary:\n",
    "```python\n",
    "dic = dict()  \n",
    "\n",
    "# or\n",
    "\n",
    "dic = {}  # curly brackets\n",
    "```\n",
    "\n",
    "This line below creates an item that maps from the key 'one' to the value “um”. If we print the dictionary again, we see a key-value pair with a colon between the key and value:"
   ]
  },
  {
   "cell_type": "code",
   "execution_count": 8,
   "metadata": {},
   "outputs": [
    {
     "data": {
      "text/plain": [
       "{'one': 'um'}"
      ]
     },
     "execution_count": 8,
     "metadata": {},
     "output_type": "execute_result"
    }
   ],
   "source": [
    "eng2sp = {}\n",
    "eng2sp['one'] = 'um'\n",
    "eng2sp"
   ]
  },
  {
   "cell_type": "code",
   "execution_count": 9,
   "metadata": {},
   "outputs": [
    {
     "data": {
      "text/plain": [
       "{'one': 'um', 'three': 'três', 'two': 'dois'}"
      ]
     },
     "execution_count": 9,
     "metadata": {},
     "output_type": "execute_result"
    }
   ],
   "source": [
    "# Let's add few elements \n",
    "eng2sp['two'] = 'dois'\n",
    "eng2sp['three'] = 'três'\n",
    "eng2sp                      "
   ]
  },
  {
   "cell_type": "code",
   "execution_count": 10,
   "metadata": {},
   "outputs": [
    {
     "data": {
      "text/plain": [
       "'um'"
      ]
     },
     "execution_count": 10,
     "metadata": {},
     "output_type": "execute_result"
    }
   ],
   "source": [
    "eng2sp['one']"
   ]
  },
  {
   "cell_type": "markdown",
   "metadata": {},
   "source": [
    "In general, the order of items in a dictionary is `unpredictable`. But that’s not a problem because the elements of a dictionary are never indexed with integer indices. Instead, you use the keys to look up the corresponding values:"
   ]
  },
  {
   "cell_type": "code",
   "execution_count": 11,
   "metadata": {},
   "outputs": [
    {
     "name": "stdout",
     "output_type": "stream",
     "text": [
      "{'F_0': 0, 'F_1': 1, 'F_2': 1, 'F_3': 2, 'F_4': 3, 'F_5': 5, 'F_6': 8, 'F_7': 13, 'F_8': 21, 'F_9': 34, 'F_10': 55, 'F_11': 89, 'F_12': 144, 'F_13': 233, 'F_14': 377}\n",
      "144\n"
     ]
    }
   ],
   "source": [
    "def fibonacci(n):\n",
    "    if n<=1:\n",
    "        return n\n",
    "    else:\n",
    "        return fibonacci(n-1) + fibonacci(n-2)\n",
    "dic_fibo = {'F_%d'%x: fibonacci(x) for x in range(0,15)}\n",
    "print(dic_fibo)\n",
    "print(dic_fibo['F_12']) # the 12th term of fibonacci sequence"
   ]
  },
  {
   "cell_type": "code",
   "execution_count": 12,
   "metadata": {},
   "outputs": [
    {
     "data": {
      "text/plain": [
       "-1"
      ]
     },
     "execution_count": 12,
     "metadata": {},
     "output_type": "execute_result"
    }
   ],
   "source": [
    "# dic_fibo['F_16'] \n",
    "# 'bbbcb'.find('w')\n",
    "dic_fibo.get('F_16',-1)"
   ]
  },
  {
   "cell_type": "markdown",
   "metadata": {},
   "source": [
    "### Dictionary `get()` Method\n",
    "\n",
    "Dictionaries have a method called `get()` that takes a key and a default value. If the key appears in the dictionary, get returns the corresponding value; otherwise it returns the default value. \n",
    "\n",
    "**Syntax**\n",
    "```python\n",
    "dictionary.get(keyname, value)\n",
    "```\n",
    "\n",
    "**Parameter\tDescription**\n",
    "- The keyname of the item you want to return the value from\n",
    "- A value to return if the specified key does not exist. Default value None"
   ]
  },
  {
   "cell_type": "markdown",
   "metadata": {},
   "source": [
    "Let's see the importance of the `get()` method in the following example.\n",
    "\n",
    "```python\n",
    "T = 'MIK Tutors' \n",
    "d = dict()\n",
    "for c in T:\n",
    "    if c not in d: \n",
    "        d[c] = 1\n",
    "    else:\n",
    "        d[c] = d[c] + 1\n",
    "print(d)\n",
    "```\n",
    "The for loop traverses the string. Each time through the loop, if the character `c` is not in the dictionary, we create a new item with key `c` and the initial value `1` (since we have seen this letter once). If `c` is already in the dictionary we increment `d[c]`.\n",
    "Here’s the output of the program:\n",
    "```\n",
    "{'l': 5, 'a': 3, 's': 1, 'e': 4, ' ': 2, 'c': 2, 'o': 2, 'g': 1, 'v': 2, 'n': 1, 'u': 1, 'r': 1}\n",
    "```\n",
    "We can use `get()` to write our histogram loop more concisely. Because the get method automatically handles the case where a key is not in a dictionary, we can reduce four lines down to one and eliminate the if statement.\n"
   ]
  },
  {
   "cell_type": "code",
   "execution_count": 13,
   "metadata": {},
   "outputs": [
    {
     "ename": "NameError",
     "evalue": "name 'college' is not defined",
     "output_type": "error",
     "traceback": [
      "\u001b[0;31m---------------------------------------------------------------------------\u001b[0m",
      "\u001b[0;31mNameError\u001b[0m                                 Traceback (most recent call last)",
      "\u001b[0;32m<ipython-input-13-55ab2564a3a2>\u001b[0m in \u001b[0;36m<module>\u001b[0;34m()\u001b[0m\n\u001b[1;32m      1\u001b[0m \u001b[0mT\u001b[0m \u001b[0;34m=\u001b[0m \u001b[0;34m'MIK Tutors'\u001b[0m\u001b[0;34m\u001b[0m\u001b[0;34m\u001b[0m\u001b[0m\n\u001b[1;32m      2\u001b[0m \u001b[0md\u001b[0m \u001b[0;34m=\u001b[0m \u001b[0mdict\u001b[0m\u001b[0;34m(\u001b[0m\u001b[0;34m)\u001b[0m\u001b[0;34m\u001b[0m\u001b[0;34m\u001b[0m\u001b[0m\n\u001b[0;32m----> 3\u001b[0;31m \u001b[0;32mfor\u001b[0m \u001b[0mc\u001b[0m \u001b[0;32min\u001b[0m \u001b[0mcollege\u001b[0m\u001b[0;34m:\u001b[0m\u001b[0;34m\u001b[0m\u001b[0;34m\u001b[0m\u001b[0m\n\u001b[0m\u001b[1;32m      4\u001b[0m     \u001b[0md\u001b[0m\u001b[0;34m[\u001b[0m\u001b[0mc\u001b[0m\u001b[0;34m]\u001b[0m \u001b[0;34m=\u001b[0m \u001b[0md\u001b[0m\u001b[0;34m.\u001b[0m\u001b[0mget\u001b[0m\u001b[0;34m(\u001b[0m\u001b[0mc\u001b[0m\u001b[0;34m,\u001b[0m\u001b[0;36m0\u001b[0m\u001b[0;34m)\u001b[0m \u001b[0;34m+\u001b[0m \u001b[0;36m1\u001b[0m\u001b[0;34m\u001b[0m\u001b[0;34m\u001b[0m\u001b[0m\n\u001b[1;32m      5\u001b[0m \u001b[0mprint\u001b[0m\u001b[0;34m(\u001b[0m\u001b[0md\u001b[0m\u001b[0;34m)\u001b[0m\u001b[0;34m\u001b[0m\u001b[0;34m\u001b[0m\u001b[0m\n",
      "\u001b[0;31mNameError\u001b[0m: name 'college' is not defined"
     ]
    }
   ],
   "source": [
    "T = 'MIK Tutors' \n",
    "d = dict()\n",
    "for c in college:\n",
    "    d[c] = d.get(c,0) + 1\n",
    "print(d)"
   ]
  },
  {
   "cell_type": "markdown",
   "metadata": {},
   "source": [
    "### Looping and dictionaries  \n",
    "\n",
    "\n",
    "If you use a dictionary as the sequence in a for statement, it traverses the keys of the dictionary."
   ]
  },
  {
   "cell_type": "code",
   "execution_count": 14,
   "metadata": {},
   "outputs": [
    {
     "name": "stdout",
     "output_type": "stream",
     "text": [
      "Canada\n",
      "Brazil\n",
      "China\n",
      "Japan\n"
     ]
    }
   ],
   "source": [
    "dic_capital = {'Canada': 'Ottawa', 'Brazil': 'Brazilian', 'China': 'Beijing', 'Japan': 'Tokio'}\n",
    "\n",
    "for idx in dic_capital:\n",
    "    print(idx)"
   ]
  },
  {
   "cell_type": "markdown",
   "metadata": {},
   "source": [
    "To iterates through the values, we need to use `.values()`, which returns a view with the values of the dictionary:"
   ]
  },
  {
   "cell_type": "code",
   "execution_count": 15,
   "metadata": {},
   "outputs": [
    {
     "name": "stdout",
     "output_type": "stream",
     "text": [
      "Ottawa\n",
      "Brazilian\n",
      "Beijing\n",
      "Tokio\n"
     ]
    }
   ],
   "source": [
    "for value in dic_capital.values():\n",
    "    print(value)"
   ]
  },
  {
   "cell_type": "markdown",
   "metadata": {},
   "source": [
    "But the most useful ways to iterate through a dictionary in Python is by using `.items()`, which is a method that returns the tuples (key, value):"
   ]
  },
  {
   "cell_type": "code",
   "execution_count": 16,
   "metadata": {},
   "outputs": [
    {
     "name": "stdout",
     "output_type": "stream",
     "text": [
      "Canada Ottawa\n",
      "Brazil Brazilian\n",
      "China Beijing\n",
      "Japan Tokio\n"
     ]
    }
   ],
   "source": [
    "for key,value in dic_capital.items():\n",
    "    print(key,value)"
   ]
  },
  {
   "cell_type": "markdown",
   "metadata": {},
   "source": [
    "## Tuples\n",
    "\n",
    "A tuple is a sequence of values much like a list. The values stored in a tuple can be any type, and they are indexed by integers. The important difference is that tuples are `immutable`. Tuples are also `comparable` and `hashable` so we can sort lists of them and use tuples as key values in Python dictionaries.\n",
    "Syntactically, a tuple is a comma-separated list of values:\n",
    "\n",
    "Although it is not necessary, it is common to enclose tuples in parentheses to help\n",
    "us quickly identify tuples when we look at Python code:"
   ]
  },
  {
   "cell_type": "code",
   "execution_count": 17,
   "metadata": {},
   "outputs": [
    {
     "data": {
      "text/plain": [
       "True"
      ]
     },
     "execution_count": 17,
     "metadata": {},
     "output_type": "execute_result"
    }
   ],
   "source": [
    "t1 = ('a', 'b', 'c', 'd', 'e')\n",
    "t2 = 'a', 'b', 'c', 'd', 'e'\n",
    "t1 == t2"
   ]
  },
  {
   "cell_type": "code",
   "execution_count": 18,
   "metadata": {},
   "outputs": [
    {
     "data": {
      "text/plain": [
       "False"
      ]
     },
     "execution_count": 18,
     "metadata": {},
     "output_type": "execute_result"
    }
   ],
   "source": [
    "# Without the comma Python treats ('a') as an expression with a string in parentheses that evaluates to a string:\n",
    "t3 = ('a',)\n",
    "s = ('a')\n",
    "type(t3) is type(s)"
   ]
  },
  {
   "cell_type": "markdown",
   "metadata": {},
   "source": [
    "Because tuple is the name of a `constructor`, you should avoid using it as a variable name.\n",
    "```\n",
    "tuple = () # try not to do that!\n",
    "```"
   ]
  },
  {
   "cell_type": "code",
   "execution_count": 19,
   "metadata": {},
   "outputs": [],
   "source": [
    "t = tuple(T) "
   ]
  },
  {
   "cell_type": "code",
   "execution_count": 20,
   "metadata": {},
   "outputs": [
    {
     "name": "stdout",
     "output_type": "stream",
     "text": [
      "The bracket operator indexes an element:\n",
      " \n",
      "And the slice operator selects a range of elements:\n",
      "('r', 's')\n"
     ]
    }
   ],
   "source": [
    "print('The bracket operator indexes an element:')\n",
    "print(t[3])\n",
    "print('And the slice operator selects a range of elements:')\n",
    "print(t[8:15])"
   ]
  },
  {
   "cell_type": "code",
   "execution_count": 21,
   "metadata": {},
   "outputs": [
    {
     "name": "stdout",
     "output_type": "stream",
     "text": [
      "But if you try to modify one of the elements of the tuple, you get an error:\n"
     ]
    },
    {
     "ename": "TypeError",
     "evalue": "'str' object does not support item assignment",
     "output_type": "error",
     "traceback": [
      "\u001b[0;31m---------------------------------------------------------------------------\u001b[0m",
      "\u001b[0;31mTypeError\u001b[0m                                 Traceback (most recent call last)",
      "\u001b[0;32m<ipython-input-21-7a82b7f58a70>\u001b[0m in \u001b[0;36m<module>\u001b[0;34m()\u001b[0m\n\u001b[1;32m      1\u001b[0m \u001b[0mprint\u001b[0m\u001b[0;34m(\u001b[0m\u001b[0;34m'But if you try to modify one of the elements of the tuple, you get an error:'\u001b[0m\u001b[0;34m)\u001b[0m\u001b[0;34m\u001b[0m\u001b[0;34m\u001b[0m\u001b[0m\n\u001b[0;32m----> 2\u001b[0;31m \u001b[0mT\u001b[0m\u001b[0;34m[\u001b[0m\u001b[0;36m0\u001b[0m\u001b[0;34m]\u001b[0m \u001b[0;34m=\u001b[0m \u001b[0;34m'm'\u001b[0m\u001b[0;34m\u001b[0m\u001b[0;34m\u001b[0m\u001b[0m\n\u001b[0m",
      "\u001b[0;31mTypeError\u001b[0m: 'str' object does not support item assignment"
     ]
    }
   ],
   "source": [
    "print('But if you try to modify one of the elements of the tuple, you get an error:')\n",
    "T[0] = 'm'"
   ]
  },
  {
   "cell_type": "markdown",
   "metadata": {},
   "source": [
    "### When to use tuples instead of lists?\n",
    "\n",
    "Lists are more common than tuples, mostly because they are mutable. But there are a few cases where you might prefer tuples:\n",
    "\n",
    "- 1. In some contexts, like a return statement, it is syntactically simpler to create a tuple than a list. In other contexts, you might prefer a list.\n",
    "- 2. If you want to use a sequence as a dictionary key, you have to use an immutable type like a tuple or string.\n",
    "- 3. If you are passing a sequence as an argument to a function, using tuples reduces the potential for unexpected behavior due to aliasing."
   ]
  },
  {
   "cell_type": "markdown",
   "metadata": {},
   "source": [
    "References:\n",
    "\n",
    "- Python for Everybody Exploring Data Using Python 3 by Dr. Charles R. Severance\n",
    "- w3schools.com\n",
    "- Automate the boring stuff with Python: practical programming for total beginners by Sweigart, A.\n",
    "- https://docs.python.org/3/tutorial/datastructures"
   ]
  },
  {
   "cell_type": "markdown",
   "metadata": {},
   "source": [
    "<img align=\"right\" src=\"images/logo.png\" style=\"width:50px;height:50px;\">"
   ]
  },
  {
   "cell_type": "code",
   "execution_count": null,
   "metadata": {},
   "outputs": [],
   "source": []
  }
 ],
 "metadata": {
  "kernelspec": {
   "display_name": "Python 3",
   "language": "python",
   "name": "python3"
  },
  "language_info": {
   "codemirror_mode": {
    "name": "ipython",
    "version": 3
   },
   "file_extension": ".py",
   "mimetype": "text/x-python",
   "name": "python",
   "nbconvert_exporter": "python",
   "pygments_lexer": "ipython3",
   "version": "3.7.3"
  }
 },
 "nbformat": 4,
 "nbformat_minor": 4
}
