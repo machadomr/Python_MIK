{
 "cells": [
  {
   "cell_type": "markdown",
   "metadata": {},
   "source": [
    "<img src=\"images/MIK.png\" style=\"width:375px;height:200px;\">"
   ]
  },
  {
   "cell_type": "markdown",
   "metadata": {},
   "source": [
    "## <center> MIK - Python for beginners: Strings</center>\n",
    "### <center>by Ivaldo Tributino and Marcos Machado</center>"
   ]
  },
  {
   "cell_type": "markdown",
   "metadata": {},
   "source": [
    "## A string is a sequence of characters.\n",
    "\n",
    "```python\n",
    "learn = 'MIK Tutors'\n",
    "```\n",
    "\n",
    "<img src=\"images/mik_tutors.png\" style=\"width:475px;height:100px;\">\n",
    "\n",
    "You can access the characters one at a time with the bracket operator:\n",
    "\n",
    "```python\n",
    "letter = learn[0]\n",
    "print(letter)\n",
    "M\n",
    "```\n",
    "\n",
    "The expression in brackets is called an `index`. The `index` indicates which character in the sequence you want to select.\n",
    "\n",
    "**Important:** Python lists are `0-indexed`. So the first element is `0`, second is `1`, so on. So if there are `n` elements in a list, the last element is `n-1`!"
   ]
  },
  {
   "cell_type": "code",
   "execution_count": null,
   "metadata": {},
   "outputs": [],
   "source": [
    "# Here we are creating a string and selecting the first charactere!\n",
    "learn = 'MIK Tutors'\n",
    "letter = learn[0]\n",
    "print(letter)"
   ]
  },
  {
   "cell_type": "markdown",
   "metadata": {},
   "source": [
    "## Verifying the length of a string using `len`\n",
    "\n",
    "Do you remember the built-in function `len()`? \n",
    "We can use it to get the number of characters in a string:"
   ]
  },
  {
   "cell_type": "code",
   "execution_count": null,
   "metadata": {},
   "outputs": [],
   "source": [
    "# Here we are checking the number of characteres of the string we created before!\n",
    "length = len(learn)\n",
    "length"
   ]
  },
  {
   "cell_type": "markdown",
   "metadata": {},
   "source": [
    "Since the string is a sequence of characters, let's use the while and for loops to print the string item by item."
   ]
  },
  {
   "cell_type": "code",
   "execution_count": null,
   "metadata": {},
   "outputs": [],
   "source": [
    "# We are just demonstrating how we can use while and for to print items of a string!\n",
    "i=0\n",
    "while i < length:\n",
    "    letter = learn[i]\n",
    "    i = i + 1               # Increment\n",
    "    print(letter, end =\" \") # end =\" \", printing a element in same line \n",
    "\n",
    "print()    \n",
    "# Can we use for loop?\n",
    "\n",
    "for letter in learn:\n",
    "    print(letter, end = \" \")"
   ]
  },
  {
   "cell_type": "markdown",
   "metadata": {},
   "source": [
    "If we execute a cell with the following code, we will receive a Traceback. What is the reason for the error?\n",
    "\n",
    "```python\n",
    "learn[length]\n",
    "\n",
    "```"
   ]
  },
  {
   "cell_type": "code",
   "execution_count": null,
   "metadata": {},
   "outputs": [],
   "source": [
    "try:\n",
    "    college[15]\n",
    "except:\n",
    "    print('What is the reason for the Traceback?')"
   ]
  },
  {
   "cell_type": "markdown",
   "metadata": {},
   "source": [
    "If you want to know the `last` character of a string you can use the `negative indices`, which count `backward` from the end of the string."
   ]
  },
  {
   "cell_type": "code",
   "execution_count": null,
   "metadata": {},
   "outputs": [],
   "source": [
    "# Checking the last character of a string!\n",
    "learn[-1]"
   ]
  },
  {
   "cell_type": "markdown",
   "metadata": {},
   "source": [
    "**Exercise 1:** Write a `while loop` that starts at the `last character` in the string and works its way `backwards` to the first character in the string, printing each letter on a separate line.\n",
    "\n",
    "Your output should be something like this:\n",
    "```\n",
    "s\n",
    "r\n",
    "o\n",
    "t\n",
    "u\n",
    "T\n",
    "\n",
    "K\n",
    "I \n",
    "M\n",
    "```"
   ]
  },
  {
   "cell_type": "code",
   "execution_count": null,
   "metadata": {},
   "outputs": [],
   "source": [
    "i=-1\n",
    "while i >= -length: # -10\n",
    "    letter = learn[i]\n",
    "    i -=1               # Increment\n",
    "    print(letter) "
   ]
  },
  {
   "cell_type": "markdown",
   "metadata": {},
   "source": [
    "## Slicing strings\n",
    "\n",
    "The operator returns `[n-th:m-th]` the part of the string from the `n-th` character to the `m-th` character, `including the first` but `excluding the last`.\n",
    "\n",
    "If you` omit the first` index (before the colon), the slice `starts at the beginning` of the string. If you `omit the second` index, the slice `goes to the end` of the string:"
   ]
  },
  {
   "cell_type": "code",
   "execution_count": null,
   "metadata": {},
   "outputs": [],
   "source": [
    "learn[:7] # omitting the first"
   ]
  },
  {
   "cell_type": "code",
   "execution_count": null,
   "metadata": {},
   "outputs": [],
   "source": [
    "learn[8:] # omitting the second"
   ]
  },
  {
   "cell_type": "markdown",
   "metadata": {},
   "source": [
    "If the first index is greater than or equal the second, the result is an `empty` string, represented by two quotation marks:"
   ]
  },
  {
   "cell_type": "code",
   "execution_count": null,
   "metadata": {},
   "outputs": [],
   "source": [
    "learn[8:8]"
   ]
  },
  {
   "cell_type": "code",
   "execution_count": null,
   "metadata": {},
   "outputs": [],
   "source": [
    "learn[9:8]"
   ]
  },
  {
   "cell_type": "markdown",
   "metadata": {},
   "source": [
    "**Exercise 2:** Since learn is a string, what does `learn[:]` mean?"
   ]
  },
  {
   "cell_type": "code",
   "execution_count": null,
   "metadata": {},
   "outputs": [],
   "source": [
    "learn[:]"
   ]
  },
  {
   "cell_type": "markdown",
   "metadata": {},
   "source": [
    "## Looping and counting"
   ]
  },
  {
   "cell_type": "markdown",
   "metadata": {},
   "source": [
    "You can think that it is a good idea to use the operator on the left side of an assignment, intending to `change` or `add` a character in a string. For example:"
   ]
  },
  {
   "cell_type": "code",
   "execution_count": null,
   "metadata": {},
   "outputs": [],
   "source": [
    "try:\n",
    "    learn[0] = 'l'  \n",
    "except:\n",
    "    print('str object does not support item assignment')"
   ]
  },
  {
   "cell_type": "markdown",
   "metadata": {},
   "source": [
    "The reason for the error is that `strings are immutable`, which means you can’t change an existing string. The best you can do is create a new string that is a variation on the original:"
   ]
  },
  {
   "cell_type": "code",
   "execution_count": null,
   "metadata": {},
   "outputs": [],
   "source": [
    "learn = learn + ' Marcos_Ivaldo_Karine' # concatenates\n",
    "learn"
   ]
  },
  {
   "cell_type": "markdown",
   "metadata": {},
   "source": [
    "Let's count the number of times the letter \"A\" appears in the string learn:"
   ]
  },
  {
   "cell_type": "code",
   "execution_count": null,
   "metadata": {},
   "outputs": [],
   "source": [
    "# This piece o code is only counting the leeter `a` in the string~\n",
    "count = 0\n",
    "for letter in learn:\n",
    "    if letter == 'a':\n",
    "        count +=1\n",
    "print(count)        "
   ]
  },
  {
   "cell_type": "markdown",
   "metadata": {},
   "source": [
    "**Exercise 3:** Encapsulate this code in a function named count, and generalize it so that it accepts the string and the letter as arguments."
   ]
  },
  {
   "cell_type": "code",
   "execution_count": null,
   "metadata": {},
   "outputs": [],
   "source": [
    "def count(letter, string):\n",
    "    count = 0\n",
    "    for l in string:\n",
    "        if l == letter:\n",
    "            count+=1\n",
    "    return count "
   ]
  },
  {
   "cell_type": "code",
   "execution_count": null,
   "metadata": {},
   "outputs": [],
   "source": [
    "count('a', learn)"
   ]
  },
  {
   "cell_type": "code",
   "execution_count": null,
   "metadata": {},
   "outputs": [],
   "source": [
    "count('a', 'MIK Tutors MArcos_IvAldo_KArine')"
   ]
  },
  {
   "cell_type": "markdown",
   "metadata": {},
   "source": [
    "**Important:** Python does not handle `uppercase` and `lowercase` same way that humans do. All the uppercase letters come before all the lowercase letters, so:\n",
    "\n",
    "```\n",
    "'Z' < 'a'\n",
    "```"
   ]
  },
  {
   "cell_type": "code",
   "execution_count": null,
   "metadata": {},
   "outputs": [],
   "source": [
    "'Z' < 'a'"
   ]
  },
  {
   "cell_type": "code",
   "execution_count": null,
   "metadata": {},
   "outputs": [],
   "source": [
    "'a' < 'b'"
   ]
  },
  {
   "cell_type": "code",
   "execution_count": null,
   "metadata": {},
   "outputs": [],
   "source": [
    "'Mik' < 'MIK'"
   ]
  },
  {
   "cell_type": "code",
   "execution_count": null,
   "metadata": {},
   "outputs": [],
   "source": [
    "## Built-in function that builds a new sorted list from an iterable string.\n",
    "sorted('MIK Tutors') "
   ]
  },
  {
   "cell_type": "markdown",
   "metadata": {},
   "source": [
    "## String methods\n",
    "\n",
    "Strings are an example of Python `objects`. An object contains both data (the actual string itself) and `methods`, which are effectively `functions` that are `built into the object`. \n",
    "\n",
    "Calling a `method` is similar to calling a `function` (it takes arguments and returns a value) but the syntax is different. We call a method by appending the method name to the variable name using the period as a delimiter.\n",
    "\n",
    "Example:\n",
    "\n",
    "`str.capitalize()`\n",
    "Return a copy of the string with its first character capitalized and the rest lowercased."
   ]
  },
  {
   "cell_type": "code",
   "execution_count": null,
   "metadata": {},
   "outputs": [],
   "source": [
    "# The empty parentheses indicate that this method takes no argument, It capitalize the first letter only!\n",
    "'mIK tutors'.capitalize()"
   ]
  },
  {
   "cell_type": "markdown",
   "metadata": {},
   "source": [
    "Another example, the method `upper()` takes a string and returns a new string with all `uppercase` letters:\n",
    "Instead of the function syntax `upper(str)`, it uses the method syntax `str.upper()`. "
   ]
  },
  {
   "cell_type": "code",
   "execution_count": null,
   "metadata": {},
   "outputs": [],
   "source": [
    "# This capitalize all letters!\n",
    "'mik'.upper()"
   ]
  },
  {
   "cell_type": "markdown",
   "metadata": {},
   "source": [
    "Now, let's see an example of a method that takes an argument, for example, the string method named `find` that searches for the position of one string within another:\n",
    "\n",
    "<img src=\"images/mik_tutors.png\" style=\"width:475px;height:100px;\">"
   ]
  },
  {
   "cell_type": "code",
   "execution_count": null,
   "metadata": {},
   "outputs": [],
   "source": [
    "learn = 'MIK Tutors'\n",
    "learn.find(\"T\")"
   ]
  },
  {
   "cell_type": "code",
   "execution_count": null,
   "metadata": {},
   "outputs": [],
   "source": [
    "learn.find(\"ors\")"
   ]
  },
  {
   "cell_type": "code",
   "execution_count": null,
   "metadata": {},
   "outputs": [],
   "source": [
    "# It can take as a second argument the index where it should start:\n",
    "learn.find(\"T\", 7)"
   ]
  },
  {
   "cell_type": "markdown",
   "metadata": {},
   "source": [
    "One common task when working with strings is to remove white space (blank spaces, tabs, or newlines) from the beginning and end of a string. We can do that using the `strip` method:"
   ]
  },
  {
   "cell_type": "code",
   "execution_count": null,
   "metadata": {},
   "outputs": [],
   "source": [
    "'    MIK Tutors'.strip()"
   ]
  },
  {
   "cell_type": "markdown",
   "metadata": {},
   "source": [
    "Some methods such as `startswith()`, `isuppper()` and `islower()` return boolean values. There are several string methods that have names beginning with the word `is`. These methods return a Boolean value that describes the nature of the string. Here are some common `is-string` methods:\n",
    "\n",
    "- `isalpha()` returns True if the string consists only of letters and not blank.\n",
    "- `isalnum()` returns True if the string consists only of letters and numbers and not blank.\n",
    "- `isdecimal()` returns True if the string consists only of numeric characters and is not blank.\n",
    "- `isspace()` returns True if the string consists only of spaces, tabs, and newlines is not blank.\n",
    "- `istitle()` returns True if the string consists only of words that begin with an uppercase letter followed by only lowercase latters."
   ]
  },
  {
   "cell_type": "code",
   "execution_count": null,
   "metadata": {},
   "outputs": [],
   "source": [
    "'MIK Tutors'.startswith('m')"
   ]
  },
  {
   "cell_type": "code",
   "execution_count": null,
   "metadata": {},
   "outputs": [],
   "source": [
    "'MIK Tutors'.startswith('M')"
   ]
  },
  {
   "cell_type": "code",
   "execution_count": null,
   "metadata": {},
   "outputs": [],
   "source": [
    "'MIK Tutors'.islower()"
   ]
  },
  {
   "cell_type": "code",
   "execution_count": null,
   "metadata": {},
   "outputs": [],
   "source": [
    "learn.isupper()"
   ]
  },
  {
   "cell_type": "markdown",
   "metadata": {},
   "source": [
    "**Important:** There is a string method called `count` that is similar to the function in the previous exercise. Let's see the example below:"
   ]
  },
  {
   "cell_type": "code",
   "execution_count": null,
   "metadata": {},
   "outputs": [],
   "source": [
    "letter = \"a\"\n",
    "start = 1          # range [start, end]\n",
    "end = 13\n",
    "'MIK Tutors Marcos_Ivaldo_Karine'.count(letter, start, end)"
   ]
  },
  {
   "cell_type": "markdown",
   "metadata": {},
   "source": [
    "## Format operator\n",
    "\n",
    "The format operator, `%` allows us to construct strings, replacing parts of the strings with the data stored in variables. When applied to integers, `%` is the modulus operator. However, when the first operand is a string, `%` is the format operator.\n",
    "\n",
    "The first operand is the format string, which contains one or more format sequences that specify how the second operand is formatted. The result is a string.\n",
    "\n",
    "The following example uses `%d` to format an integer, `%g` to format a floating-point number `(don’t ask why)`, and `%s` to format a string:"
   ]
  },
  {
   "cell_type": "code",
   "execution_count": null,
   "metadata": {},
   "outputs": [],
   "source": [
    "# Here we are printing a string and using `%` to be replaced by the values inside the parentheses!\n",
    "'For %d years, I have eaten %g hamburgers at %s a year' % (30, 0.5, 'McDonalds')"
   ]
  },
  {
   "cell_type": "markdown",
   "metadata": {},
   "source": [
    "## Justifying Text with `rjust()`, `ljust()` and `center()`\n",
    "\n",
    "String methods return a padded version of the string they are called on, with spaces inserted to justify the text."
   ]
  },
  {
   "cell_type": "code",
   "execution_count": null,
   "metadata": {},
   "outputs": [],
   "source": [
    "c_learn = learn.center(20, '*') # string.center(length, character)\n",
    "r_learn = learn.rjust(20, '&')\n",
    "l_learn = learn.ljust(20, '*')\n",
    "\n",
    "print(c_learn)\n",
    "print(r_learn)\n",
    "print(l_learn)"
   ]
  },
  {
   "cell_type": "markdown",
   "metadata": {},
   "source": [
    "These methods are specially useful when you need to print tabular data that has the correct spacing. For example, run the following code to explore the allignment of the strings:"
   ]
  },
  {
   "cell_type": "code",
   "execution_count": null,
   "metadata": {},
   "outputs": [],
   "source": [
    "# Here we are just creating the function using the allignment methods!\n",
    "def printPicnic(itemsDict, leftWidth, rightWidth):\n",
    "    print('PICNIC ITEMS'.center(leftWidth + rightWidth, '-'))\n",
    "    for k, v in itemsDict.items():\n",
    "        print(k.ljust(leftWidth, '.') + str(v).rjust(rightWidth))       \n",
    "\n",
    "# Now we are using the function created!       \n",
    "picnicItems = {'sandwiches': 4, 'apples': 12, 'cups': 4, 'cookies': 8000}\n",
    "printPicnic(picnicItems, 12, 5)"
   ]
  },
  {
   "cell_type": "markdown",
   "metadata": {},
   "source": [
    "#### References:\n",
    "\n",
    "- Automate the boring stuff with Python: practical programming for total beginners by Sweigart, A.\n",
    "- Python Cookbook, 3rd Edition by David Beazley and Brian K. Jones\n",
    "- Python for Everybody Exploring Data Using Python 3 by Dr. Charles R. Severance\n",
    "- Source of documentation for string methods would be: https://docs.python.org/library/stdtypes.html#string-methods."
   ]
  },
  {
   "cell_type": "markdown",
   "metadata": {},
   "source": [
    "<img align=\"right\" src=\"images/logo.png\" style=\"width:50px;height:50px;\">"
   ]
  },
  {
   "cell_type": "code",
   "execution_count": null,
   "metadata": {},
   "outputs": [],
   "source": []
  },
  {
   "cell_type": "code",
   "execution_count": null,
   "metadata": {},
   "outputs": [],
   "source": []
  },
  {
   "cell_type": "code",
   "execution_count": null,
   "metadata": {},
   "outputs": [],
   "source": []
  }
 ],
 "metadata": {
  "kernelspec": {
   "display_name": "Python 3",
   "language": "python",
   "name": "python3"
  },
  "language_info": {
   "codemirror_mode": {
    "name": "ipython",
    "version": 3
   },
   "file_extension": ".py",
   "mimetype": "text/x-python",
   "name": "python",
   "nbconvert_exporter": "python",
   "pygments_lexer": "ipython3",
   "version": "3.7.3"
  }
 },
 "nbformat": 4,
 "nbformat_minor": 4
}
