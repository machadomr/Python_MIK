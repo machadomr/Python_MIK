{
 "cells": [
  {
   "cell_type": "markdown",
   "metadata": {},
   "source": [
    "<img src=\"images/MIK.png\" style=\"width:375px;height:200px;\">"
   ]
  },
  {
   "cell_type": "markdown",
   "metadata": {},
   "source": [
    "## <center> MIK - Python for beginners: Files</center>\n",
    "### <center>by Ivaldo Tributino and Marcos Machado</center>"
   ]
  },
  {
   "cell_type": "markdown",
   "metadata": {},
   "source": [
    "## Indroduction\n",
    "\n",
    "All programs need the input to process and output to display data, for that we use `files`. You can picture that as a storage compartments on computers that are managed by your OS. Variables also provide us a way to store data, however only while our program runs.\n",
    "\n",
    "We will primarily focus on opening, reading and writing text on files such as those we create in a text editor. Later we will see how to work with database files which are binary files, specifically designed to be read and written through database software.\n",
    "\n",
    "## Opening files\n",
    "\n",
    "When we want to `read` or `write` a file (say on your hard drive), we first must `open` the file. Opening the file communicates with your operating system, which knows where the data for each file is stored. When you open a file, you are asking the operating system to find the file by name and make sure the file exists. In this example, we open the file `mbox.txt`, which should be stored in the same folder as this notebook."
   ]
  },
  {
   "cell_type": "code",
   "execution_count": null,
   "metadata": {},
   "outputs": [],
   "source": [
    "fhand = open('mbox.txt')\n",
    "print(fhand) "
   ]
  },
  {
   "cell_type": "markdown",
   "metadata": {},
   "source": [
    "If the open is successful, the operating system returns us a `file handle`. The `file handle` is not the actual data contained in the file, but instead it is a “handle” that we can use to read the data. You are given a handle if the requested file exists and you have the proper permissions to read the file.\n",
    "\n",
    "Also, it is important to highlight that **TextIOWrapper** provides methods and attributes to read or write data to and from files."
   ]
  },
  {
   "cell_type": "markdown",
   "metadata": {},
   "source": [
    "## Text files and lines\n",
    "\n",
    "In this notebook, we will work with two files: The entire file of mail interactions named `mbox.txt` and a shortened version of it named `mbox-short.txt`. \n",
    "\n",
    "These files are in a standard format for a file containing multiple mail messages. The lines which start with “From” separate the messages and the lines which start with “From:” are part of the messages. For more information about the mbox format, see https://en.wikipedia.org/wiki/Mbox.\n",
    "\n",
    "To break the file into lines, there is a special character that represents the “end of the line” called the `newline` character. In Python, we represent the `newline` character as `\\n`. Even though this looks like two characters, it is actually a single character. \n",
    "\n",
    "<img src=\"images/newline.png\" style=\"width:100px;height:90px;\">"
   ]
  },
  {
   "cell_type": "code",
   "execution_count": null,
   "metadata": {},
   "outputs": [],
   "source": [
    "learn = 'MIK Tutors'\n",
    "newline_learn = 'MIK \\nTutors'\n",
    "print(learn)\n",
    "print(newline_learn)"
   ]
  },
  {
   "cell_type": "code",
   "execution_count": null,
   "metadata": {},
   "outputs": [],
   "source": [
    "len(newline_learn)-len(learn) # newline character is a single character."
   ]
  },
  {
   "cell_type": "markdown",
   "metadata": {},
   "source": [
    "So when we look at the `lines` in a file, we need to imagine that there is a special invisible character called the `newline` at the end of each line that marks the end of the line."
   ]
  },
  {
   "cell_type": "markdown",
   "metadata": {},
   "source": [
    "## Reading files\n",
    "\n",
    "While the `file handle` does not contain the data for the file, it is quite easy to construct a for loop to read through and count each of the lines in a file:"
   ]
  },
  {
   "cell_type": "code",
   "execution_count": null,
   "metadata": {},
   "outputs": [],
   "source": [
    "# This piece of code it is only counitng the number of lines measuring the size of our file!\n",
    "count = 0\n",
    "length = 0\n",
    "fhand = open('mbox-short.txt') \n",
    "for line in fhand:\n",
    "    count = count + 1\n",
    "    length += len(line)\n",
    "print('Line Count:', count)\n",
    "print('Length:', length)"
   ]
  },
  {
   "cell_type": "markdown",
   "metadata": {},
   "source": [
    "Because the for loop reads the data one line `at a time`, it can efficiently read and count the lines in very large files without running out of main memory to store the data. The above program can count the lines in any size file using very little memory since each line is read, counted, and then discarded.\n",
    "\n",
    "If you know the file is relatively small compared to the size of your main memory, you can `read` the whole file into one string using the `read method` on the file handle."
   ]
  },
  {
   "cell_type": "code",
   "execution_count": null,
   "metadata": {},
   "outputs": [],
   "source": [
    "# In this case, we are reading the entire file as a single string!\n",
    "with open('mbox-short.txt') as fhand:\n",
    "    fread = fhand.read()\n",
    "print(len(fread))    "
   ]
  },
  {
   "cell_type": "code",
   "execution_count": null,
   "metadata": {},
   "outputs": [],
   "source": [
    "fread[:20]"
   ]
  },
  {
   "cell_type": "markdown",
   "metadata": {},
   "source": [
    "In the example above, the entire contents (all 94,626 characters) of the file mbox-short.txt are read directly into the variable `fread`. We use string slicing to print out the first 20 characters of the string data stored in fread.\n",
    "\n",
    "**Observation:** The `open` function should only be used if the file data will fit comfortably in the main memory of your computer. If the file is too large to fit in main memory, you should write your program to read the file in `chunks` using a for or while loop."
   ]
  },
  {
   "cell_type": "markdown",
   "metadata": {},
   "source": [
    "## Searching through a file\n",
    "\n",
    "We can combine the pattern for reading a file with `string methods` to build simple search mechanisms.\n",
    "\n",
    "For example, if we wanted to read a file and only print out lines which started with the prefix “From:”, we could use the string `method startswith` to select only those lines with the desired prefix:"
   ]
  },
  {
   "cell_type": "code",
   "execution_count": null,
   "metadata": {},
   "outputs": [],
   "source": [
    "# This piece of code search for lines that starts with \"From:\" and print them!\n",
    "count = 0\n",
    "fhand = open('mbox-short.txt')\n",
    "for line in fhand:\n",
    "    if count < 5:\n",
    "        if line.startswith('From:'): \n",
    "            print(line)\n",
    "            count+=1"
   ]
  },
  {
   "cell_type": "markdown",
   "metadata": {},
   "source": [
    "The output looks great since the only lines we are seeing are those which start with “From:”, **but why are we seeing the extra blank lines?** \n",
    "\n",
    "This is due to that invisible `newline` character. Each of the lines ends with a `newline`, so the print statement  includes a `newline`, resulting in the double spacing effect we see.\n",
    "\n",
    "```python\n",
    "print('From: stephen.marquard@uct.ac.za') -----> 'From: stephen.marquard@uct.ac.za\\n' \n",
    "          \n",
    "```\n",
    "\n",
    "We could use line slicing to print all but the last character, but a simpler approach is to use the `rstrip()` method which strips whitespace from the right side of a string as follows:"
   ]
  },
  {
   "cell_type": "code",
   "execution_count": null,
   "metadata": {},
   "outputs": [],
   "source": [
    "# This method will strips whitespace from the right side of the string!\n",
    "'MIK     '.rstrip()"
   ]
  },
  {
   "cell_type": "code",
   "execution_count": null,
   "metadata": {},
   "outputs": [],
   "source": [
    "count = 0\n",
    "fhand = open('mbox-short.txt')\n",
    "for line in fhand:\n",
    "    if count < 5:\n",
    "        line = line.rstrip()\n",
    "        if line.startswith('From:'): \n",
    "            print(line)\n",
    "            count+=1        "
   ]
  },
  {
   "cell_type": "markdown",
   "metadata": {},
   "source": [
    "As your file processing programs get more complicated, you may want to structure your search loops using `continue`. The basic idea of the search loop is that you are looking for “interesting” lines and effectively skipping “uninteresting” lines. Example: "
   ]
  },
  {
   "cell_type": "code",
   "execution_count": null,
   "metadata": {},
   "outputs": [],
   "source": [
    "# Here we are searching for emails from this domain: @uct.ac.za !\n",
    "count = 0\n",
    "fhand = open('mbox-short.txt') \n",
    "for line in fhand:\n",
    "    if count < 5:\n",
    "        line = line.rstrip()\n",
    "        if line.find('@uct.ac.za') == -1: #  returns -1 if the string was not found\n",
    "            continue \n",
    "        count+=1    \n",
    "        print(line)"
   ]
  },
  {
   "cell_type": "markdown",
   "metadata": {},
   "source": [
    "## Writing files\n",
    "\n",
    "To write a file, you have to open it with mode `“w”` as a second parameter: \n",
    "\n",
    "```python\n",
    "fileobject = open(filename,  mode)\n",
    "```\n",
    "Opens the file for `writing`. In this mode, if file specified doesn't exists, it will be created. If the file exists, then it's data is destroyed, so be careful!"
   ]
  },
  {
   "cell_type": "code",
   "execution_count": null,
   "metadata": {},
   "outputs": [],
   "source": [
    "# Here we are simply opening the file with writiing permission!\n",
    "ftest = open('text.txt', 'w')\n",
    "print(ftest)"
   ]
  },
  {
   "cell_type": "markdown",
   "metadata": {},
   "source": [
    "The `write method` of the file handle object allow us to insert data into the file, returning the number of characters written. "
   ]
  },
  {
   "cell_type": "code",
   "execution_count": null,
   "metadata": {},
   "outputs": [],
   "source": [
    "# Now, we are writing this line in the same file, and couting the number of characteres!\n",
    "line1 = \"Course: Python with MIK,\\n\"\n",
    "ftest.write(line1)"
   ]
  },
  {
   "cell_type": "markdown",
   "metadata": {},
   "source": [
    "The print statement automatically appends a newline, but the `write method` does not add the newline automatically. So be sure to manage the ends of the lines by inserting the `newline` character when you want to end a line."
   ]
  },
  {
   "cell_type": "code",
   "execution_count": null,
   "metadata": {},
   "outputs": [],
   "source": [
    "# We are now adding a new line and making sure we are entering a new line, preparing for the new entry!\n",
    "line2 = 'Class Meetings:   Tuesday 13:30PM - 17:30PM via Microsoft teams\\n'\n",
    "ftest.write(line2)"
   ]
  },
  {
   "cell_type": "markdown",
   "metadata": {},
   "source": [
    "When you are `done` writing, you have to `close the file` to make sure that the last bit of data is physically written to the disk so it will not be lost if the power goes off."
   ]
  },
  {
   "cell_type": "code",
   "execution_count": null,
   "metadata": {},
   "outputs": [],
   "source": [
    "# This method closes the file!\n",
    "ftest.close()"
   ]
  },
  {
   "cell_type": "code",
   "execution_count": null,
   "metadata": {},
   "outputs": [],
   "source": [
    "count = 0\n",
    "ftest = open('text.txt') \n",
    "for line in ftest:\n",
    "    print(line)\n",
    "    count = count + 1\n",
    "print('Line Count:', count)"
   ]
  },
  {
   "cell_type": "code",
   "execution_count": null,
   "metadata": {},
   "outputs": [],
   "source": [
    "with open('text.txt') as f:\n",
    "    data = f.read()\n",
    "    print(data)"
   ]
  },
  {
   "cell_type": "markdown",
   "metadata": {},
   "source": [
    "#### References:\n",
    "\n",
    "- Automate the boring stuff with Python: practical programming for total beginners by Sweigart, A.\n",
    "- Python for Everybody Exploring Data Using Python 3 by Dr. Charles R. Severance"
   ]
  },
  {
   "cell_type": "markdown",
   "metadata": {},
   "source": [
    "<img align=\"right\" src=\"images/logo.png\" style=\"width:50px;height:50px;\">"
   ]
  },
  {
   "cell_type": "code",
   "execution_count": null,
   "metadata": {},
   "outputs": [],
   "source": []
  },
  {
   "cell_type": "code",
   "execution_count": null,
   "metadata": {},
   "outputs": [],
   "source": []
  }
 ],
 "metadata": {
  "kernelspec": {
   "display_name": "Python 3",
   "language": "python",
   "name": "python3"
  },
  "language_info": {
   "codemirror_mode": {
    "name": "ipython",
    "version": 3
   },
   "file_extension": ".py",
   "mimetype": "text/x-python",
   "name": "python",
   "nbconvert_exporter": "python",
   "pygments_lexer": "ipython3",
   "version": "3.7.3"
  }
 },
 "nbformat": 4,
 "nbformat_minor": 4
}
