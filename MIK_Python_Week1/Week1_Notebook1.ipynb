{
 "cells": [
  {
   "cell_type": "markdown",
   "metadata": {},
   "source": [
    "<img src=\"images/MIK.png\" style=\"width:375px;height:200px;\">"
   ]
  },
  {
   "cell_type": "markdown",
   "metadata": {},
   "source": [
    "## <center> MIK - Python for beginners: Variables, Expressions, and Statements</center>\n",
    "### <center>by Ivaldo Tributino and Marcos Machado</center>"
   ]
  },
  {
   "cell_type": "markdown",
   "metadata": {},
   "source": [
    "## Before we start our course, let's keep with the tradition and say hello to the world! We use the function print, whcih we will use during the course. Thus, function print() print to the screen whatever is inside the parentheses.\n",
    "\n",
    "## The program below prints Hello, world!"
   ]
  },
  {
   "cell_type": "code",
   "execution_count": null,
   "metadata": {},
   "outputs": [],
   "source": [
    "print('Hello, world!')"
   ]
  },
  {
   "cell_type": "markdown",
   "metadata": {},
   "source": [
    "## 1. Constants\n",
    "\n",
    "- Fixed values such as `numbers`, `letters`, and `strings`, are called “constants” because their value does not change;\n",
    "- Numeric constants are as you expect;\n",
    "- String constants use single quotes `(')` or double quotes `(\")`;"
   ]
  },
  {
   "cell_type": "code",
   "execution_count": null,
   "metadata": {},
   "outputs": [],
   "source": [
    "# The print() function prints the specified message to the screen, or other standard output device.\n",
    "print(123)  \n",
    "print(98.6)\n",
    "print(\"Hello Students\")"
   ]
  },
  {
   "cell_type": "markdown",
   "metadata": {},
   "source": [
    "## 2. Variables\n",
    "\n",
    "- A `variable` is a named place in the memory where a programmer can store data and later retrieve the data using the `variable` “name”;\n",
    "- Programmers get to choose the names of the `variables`;\n",
    "- You can change the contents of a `variable` in a later statement;\n",
    "\n",
    "It is helpful to think of variables as a box that holds data that can be changed later in the program. For example,\n",
    "\n",
    "<img src=\"images/variable.png\" style=\"width:225px;height:200px;\">"
   ]
  },
  {
   "cell_type": "code",
   "execution_count": null,
   "metadata": {},
   "outputs": [],
   "source": [
    "# In the example below, we are re-assigning a different value to the variable x, which is first 12.2, then is 100.\n",
    "# We could have used more than one variable name if we intend to use both values in the future.\n",
    "x = 12.2\n",
    "print(x)\n",
    "x = 100\n",
    "print(x)"
   ]
  },
  {
   "cell_type": "markdown",
   "metadata": {},
   "source": [
    "### 2.1 Reserved Words\n",
    "\n",
    "### Reserved or keywords have a pre-defined meaning and syntax in Pyhton. These reserved words are used to develop programming instructions. Also, they can not be used as identifiers in other programming elements lsuch as variables.\n",
    "\n",
    "### Thus, as mentioned, you cannot use `reserved` words as variable names / identifiers;\n",
    "\n",
    "|  |  |  |  |  |\n",
    "| --- | --- | --- | --- | --- |\n",
    "| False | class | return | is | Finally|\n",
    "| None | if | for | lambda | continue|\n",
    "| True | def | from | while | nonlocal|\n",
    "| and | del | global | not | with|\n",
    "| as | elif | try | or | yield|\n",
    "| assert | else | import | pass | break|\n",
    "| except | in | raise |  | |\n",
    "\n",
    "Example, try:\n",
    "\n",
    "```python \n",
    "return = 100\n",
    "```\n",
    "\n",
    "you will recebe a systax error."
   ]
  },
  {
   "cell_type": "code",
   "execution_count": null,
   "metadata": {},
   "outputs": [],
   "source": [
    "return = 100"
   ]
  },
  {
   "cell_type": "markdown",
   "metadata": {},
   "source": [
    "### 2.2 Python Variable Name Rules\n",
    "\n",
    "### When naming your variables, you must:\n",
    "- Start with a letter or underscore ( _ ); \n",
    "- Use letters, numbers, and/or underscores;\n",
    "- Be careful, because they are case sensitive;\n",
    "\n",
    "### Below we have some examples of variables names, classified as good, bad and different (based on the case sensitive feature they have).\n",
    "\n",
    "- Good examples:    spam,    eggs,   spam23,    _speed;\n",
    "- Bad examples:     23spam,     #sign,  var.12;\n",
    "- Different variables:    spam,   Spam,   SPAM;\n",
    "\n",
    "### What happen if you do not follow the rules for naming variables? For example, try:\n",
    "\n",
    "```python \n",
    "x = 23spam\n",
    "```\n",
    "\n",
    "### you will recebe a systax error, because it starts with numbers."
   ]
  },
  {
   "cell_type": "code",
   "execution_count": null,
   "metadata": {},
   "outputs": [],
   "source": [
    "23spam = 5"
   ]
  },
  {
   "cell_type": "markdown",
   "metadata": {},
   "source": [
    "## 3. Statements & Expressions\n",
    "\n",
    "A statement is a unit of code that the Python interpreter can execute. \n",
    "\n",
    "```python\n",
    "x = 2 # Assignment statement (An assignment statement gives a value to a variable.);\n",
    "x = x + 1 # Assignment with expression;\n",
    "print(x) # Print statement\n",
    "\n",
    "```\n",
    "\n",
    "`x` is a variable\n",
    "\\\n",
    "`2` is a constant\n",
    "\\\n",
    "`+` and `=` are operators\n",
    "\\\n",
    "`print(x)` is a function\n"
   ]
  },
  {
   "cell_type": "markdown",
   "metadata": {},
   "source": [
    "**Operator --- Operation**\n",
    "\n",
    "`+` Addition\n",
    "\\\n",
    "`-` Subtration\n",
    "\\\n",
    "`*` Multiplication\n",
    "\\\n",
    "`/` Division\n",
    "\\\n",
    "`**` Power\n",
    "\\\n",
    "`%` Remainder\n",
    "\\\n",
    "`//` Quotient \n",
    "\n",
    "<img src=\"images/expression.png\" style=\"width:475px;height:325px;\">\n",
    "\n",
    "See [What is an Expression and What are the types of Expressions?](https://www.geeksforgeeks.org/what-is-an-expression-and-what-are-the-types-of-expressions/) for more details. "
   ]
  },
  {
   "cell_type": "code",
   "execution_count": null,
   "metadata": {},
   "outputs": [],
   "source": [
    "a = 3.1415926535 # The first 10 digits of pi\n",
    "a = a + 2 # add\n",
    "print(a)"
   ]
  },
  {
   "cell_type": "code",
   "execution_count": null,
   "metadata": {},
   "outputs": [],
   "source": [
    "b = 4*3\n",
    "print(b)"
   ]
  },
  {
   "cell_type": "code",
   "execution_count": null,
   "metadata": {},
   "outputs": [],
   "source": [
    "c = 2**4\n",
    "print(c)"
   ]
  },
  {
   "cell_type": "code",
   "execution_count": null,
   "metadata": {},
   "outputs": [],
   "source": [
    "d = 23\n",
    "e = d%5\n",
    "print(e)"
   ]
  },
  {
   "cell_type": "markdown",
   "metadata": {},
   "source": [
    "## 4. Order of Evaluation\n",
    "\n",
    "### Highest precedence rule to lowest precedence rule:\n",
    "- Parentheses are always respected;\n",
    "- Exponentiation (raise to a power);\n",
    "- Multiplication, Division, and Remainder;\n",
    "- Addition and Subtraction;\n",
    "- Left to right!"
   ]
  },
  {
   "cell_type": "code",
   "execution_count": null,
   "metadata": {},
   "outputs": [],
   "source": [
    "x = (2 + 2) ** 3 / 4 * 5 \n",
    "print(x)"
   ]
  },
  {
   "cell_type": "markdown",
   "metadata": {},
   "source": [
    "## 5. What Does “Type” Mean?\n",
    "\n",
    "- In Python variables, literals, and constants have a `“type”`;\n",
    "- Python knows the difference between an integer and a string;\n",
    "- For example “+” means `“addition”` if you are adding numbers and `“concatenate”` if you are adding strings."
   ]
  },
  {
   "cell_type": "code",
   "execution_count": null,
   "metadata": {},
   "outputs": [],
   "source": [
    "add = 1 + 4\n",
    "print(add)"
   ]
  },
  {
   "cell_type": "code",
   "execution_count": null,
   "metadata": {},
   "outputs": [],
   "source": [
    "conc = \"Hello\" + \" there\"\n",
    "print(conc)"
   ]
  },
  {
   "cell_type": "markdown",
   "metadata": {},
   "source": [
    "### 5.1 Type Matters\n",
    "\n",
    "- Python knows what `“type”` everything is; \n",
    "- Some operations are prohibited, for instance, adding string and integers (example below);\n",
    "- We can ask Python what type something is by using the `type()` function;"
   ]
  },
  {
   "cell_type": "code",
   "execution_count": null,
   "metadata": {},
   "outputs": [],
   "source": [
    "add = \"add\" + 1"
   ]
  },
  {
   "cell_type": "code",
   "execution_count": null,
   "metadata": {},
   "outputs": [],
   "source": [
    "type(add)"
   ]
  },
  {
   "cell_type": "code",
   "execution_count": null,
   "metadata": {},
   "outputs": [],
   "source": [
    "type(conc)"
   ]
  },
  {
   "cell_type": "markdown",
   "metadata": {},
   "source": [
    "### 5.2 Several Types of Numbers\n",
    "\n",
    "- **Numbers have two main types**\n",
    " -  Integers are whole numbers:  `-14, -2, 0, 1, 100, 401233`\n",
    " -  Floating Point Numbers have decimal parts:  `-2.5 , 0.0, 98.6, 14.0`\n",
    "- **There are other number types - they are variations on float and integer (complex numbers)**\n"
   ]
  },
  {
   "cell_type": "code",
   "execution_count": null,
   "metadata": {},
   "outputs": [],
   "source": [
    "type(-14)"
   ]
  },
  {
   "cell_type": "code",
   "execution_count": null,
   "metadata": {},
   "outputs": [],
   "source": [
    "type(12.4)"
   ]
  },
  {
   "cell_type": "code",
   "execution_count": null,
   "metadata": {},
   "outputs": [],
   "source": [
    "type(1.0)"
   ]
  },
  {
   "cell_type": "markdown",
   "metadata": {},
   "source": [
    "### 5.3 Type Conversions\n",
    "\n",
    "- When you put an integer and floating point in an expression, the integer is implicitly converted to a float\n",
    "- You can control this with the built-in functions `int()` and `float()`\n"
   ]
  },
  {
   "cell_type": "code",
   "execution_count": null,
   "metadata": {},
   "outputs": [],
   "source": [
    "print(float(99) + 100)"
   ]
  },
  {
   "cell_type": "code",
   "execution_count": null,
   "metadata": {},
   "outputs": [],
   "source": [
    "i = 42 + 1.0\n",
    "type(i)"
   ]
  },
  {
   "cell_type": "code",
   "execution_count": null,
   "metadata": {},
   "outputs": [],
   "source": [
    "f = int(i)\n",
    "print(f)"
   ]
  },
  {
   "cell_type": "code",
   "execution_count": null,
   "metadata": {},
   "outputs": [],
   "source": [
    "type(f)"
   ]
  },
  {
   "cell_type": "markdown",
   "metadata": {},
   "source": [
    "### Integer Division\n",
    "\n",
    "Integer division produces a `floating point` result\n"
   ]
  },
  {
   "cell_type": "code",
   "execution_count": null,
   "metadata": {},
   "outputs": [],
   "source": [
    "print(10 / 2) "
   ]
  },
  {
   "cell_type": "code",
   "execution_count": null,
   "metadata": {},
   "outputs": [],
   "source": [
    "print(9 / 2) "
   ]
  },
  {
   "cell_type": "code",
   "execution_count": null,
   "metadata": {},
   "outputs": [],
   "source": [
    "print(99 / 100) "
   ]
  },
  {
   "cell_type": "code",
   "execution_count": null,
   "metadata": {},
   "outputs": [],
   "source": [
    "print(10.0 / 2.0)"
   ]
  },
  {
   "cell_type": "code",
   "execution_count": null,
   "metadata": {},
   "outputs": [],
   "source": [
    "print(99.0 / 100.0) "
   ]
  },
  {
   "cell_type": "markdown",
   "metadata": {},
   "source": [
    "### String Conversions\n",
    "\n",
    "- You can also use `int()` and `float()` to convert numeric characters\n",
    "- You will get an error if the string does not contain numeric characters"
   ]
  },
  {
   "cell_type": "code",
   "execution_count": null,
   "metadata": {},
   "outputs": [],
   "source": [
    "sval = '123' # string value\n",
    "type(sval)"
   ]
  },
  {
   "cell_type": "code",
   "execution_count": null,
   "metadata": {},
   "outputs": [],
   "source": [
    "print(sval + 1)"
   ]
  },
  {
   "cell_type": "code",
   "execution_count": null,
   "metadata": {},
   "outputs": [],
   "source": [
    "ival = int(sval)\n",
    "type(ival)"
   ]
  },
  {
   "cell_type": "code",
   "execution_count": null,
   "metadata": {},
   "outputs": [],
   "source": [
    "print(ival + 1)"
   ]
  },
  {
   "cell_type": "code",
   "execution_count": null,
   "metadata": {
    "scrolled": true
   },
   "outputs": [],
   "source": [
    "nsv = 'hello bob' # no string value\n",
    "niv = int(nsv)    # no integer value"
   ]
  },
  {
   "cell_type": "markdown",
   "metadata": {},
   "source": [
    "### Input function\n",
    "\n",
    "- We can instruct Python to pause and read data from the user using the `input()`  function;\n",
    "- The `input()`  function returns a string;\n"
   ]
  },
  {
   "cell_type": "code",
   "execution_count": null,
   "metadata": {},
   "outputs": [],
   "source": [
    "name = input('Who are you? ')\n",
    "print('Welcome', name)"
   ]
  },
  {
   "cell_type": "markdown",
   "metadata": {},
   "source": [
    "If we want to read a number from the user, we must convert it from a string to a number using a type conversion function."
   ]
  },
  {
   "cell_type": "code",
   "execution_count": null,
   "metadata": {},
   "outputs": [],
   "source": [
    "inp = input('Europe floor?')\n",
    "usf = int(inp) +1\n",
    "print('US floor', usf)"
   ]
  },
  {
   "cell_type": "markdown",
   "metadata": {},
   "source": [
    "### Comments in Python\n",
    "\n",
    "Anything after a `#` is ignored by Python. Why comment?\n",
    " -  Describe what is going to happen in a sequence of code;\n",
    " -  Document procedures;\n",
    " -  Turn off a line of code - perhaps temporarily;"
   ]
  },
  {
   "cell_type": "code",
   "execution_count": null,
   "metadata": {},
   "outputs": [],
   "source": [
    "# I will print the word \"welcome\"\n",
    "print(\"welcome\")"
   ]
  },
  {
   "cell_type": "markdown",
   "metadata": {},
   "source": [
    "### Exercise:\n",
    "\n",
    "Write a program to prompt the user for hours and rate per hour to compute gross pay.\n",
    "\\\n",
    "`Enter Hours: 35 `\n",
    "\\\n",
    "`Enter Rate: 15.75`\n",
    "\\\n",
    "`Pay: `"
   ]
  },
  {
   "cell_type": "code",
   "execution_count": null,
   "metadata": {},
   "outputs": [],
   "source": [
    "hour = input(\"Enter Hours:\")\n",
    "rate = input(\"Enter Rate:\")\n",
    "h = float(hour)\n",
    "r = float(rate)\n",
    "print(\"Pay:\", h*r)"
   ]
  },
  {
   "cell_type": "markdown",
   "metadata": {},
   "source": [
    "#### References/Sources:\n",
    "\n",
    "- Python for Everybody Exploring Data Using Python 3 by Dr. Charles R. Severance\n",
    "- [Stackoverflow](https://stackoverflow.com/)"
   ]
  },
  {
   "cell_type": "markdown",
   "metadata": {},
   "source": [
    "<img align=\"right\" src=\"images/logo.png\" style=\"width:50px;height:50px;\">"
   ]
  }
 ],
 "metadata": {
  "kernelspec": {
   "display_name": "Python 3",
   "language": "python",
   "name": "python3"
  },
  "language_info": {
   "codemirror_mode": {
    "name": "ipython",
    "version": 3
   },
   "file_extension": ".py",
   "mimetype": "text/x-python",
   "name": "python",
   "nbconvert_exporter": "python",
   "pygments_lexer": "ipython3",
   "version": "3.7.3"
  }
 },
 "nbformat": 4,
 "nbformat_minor": 4
}
