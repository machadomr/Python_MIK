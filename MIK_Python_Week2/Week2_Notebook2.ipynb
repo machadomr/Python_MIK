{
 "cells": [
  {
   "cell_type": "markdown",
   "metadata": {},
   "source": [
    "<img src=\"images/MIK.png\" style=\"width:375px;height:200px;\">"
   ]
  },
  {
   "cell_type": "markdown",
   "metadata": {},
   "source": [
    "## <center> MIK - Python for beginners: Functions</center>\n",
    "### <center>by Ivaldo Tributino and Marcos Machado</center>"
   ]
  },
  {
   "cell_type": "markdown",
   "metadata": {},
   "source": [
    "## Built-in functions\n",
    "\n",
    "The creators of Python wrote a set of functions to solve common problems and included them in Python for us to use.\n",
    "\n",
    "As example the `type()` function that returns class type of the argument(object) passed as parameter."
   ]
  },
  {
   "cell_type": "code",
   "execution_count": null,
   "metadata": {},
   "outputs": [],
   "source": [
    "lt = []\n",
    "dic = {}\n",
    "tp = ()\n",
    "for i in [lt, dic, tp, 10, 'Ivaldo']:\n",
    "    ty = type(i)\n",
    "    print(ty)   "
   ]
  },
  {
   "cell_type": "markdown",
   "metadata": {},
   "source": [
    "The `max` and `min` functions give us the largest and smallest values in a list, respectively:"
   ]
  },
  {
   "cell_type": "code",
   "execution_count": null,
   "metadata": {},
   "outputs": [],
   "source": [
    "max([3, 5, 7, 93, 56]) #"
   ]
  },
  {
   "cell_type": "code",
   "execution_count": null,
   "metadata": {},
   "outputs": [],
   "source": [
    "min([3, 5, 7, 93, 56])"
   ]
  },
  {
   "cell_type": "markdown",
   "metadata": {},
   "source": [
    "The `ord()` function returns an integer representing the `Unicode character`. "
   ]
  },
  {
   "cell_type": "code",
   "execution_count": null,
   "metadata": {},
   "outputs": [],
   "source": [
    "ord('A'), ord('a'), ord('$')"
   ]
  },
  {
   "cell_type": "code",
   "execution_count": null,
   "metadata": {},
   "outputs": [],
   "source": [
    "print(\" \".join(str(ord(i)) for i in 'Hellow World')) # base-10\n",
    "print(\" \".join(f\"{ord(i):08b}\" for i in 'Hellow World')) # binary\n",
    "print(max('Hellow World'))\n",
    "print(min('Hellow World'))"
   ]
  },
  {
   "cell_type": "markdown",
   "metadata": {},
   "source": [
    "The `max()` function tells us the “largest character” in the string (which turns out to be the letter `“w”`) and the `min()` function shows us the smallest character `(which turns out to be a space)`.\n",
    "\n",
    "To learn more about Unicode & Character Encodings, click [here](https://realpython.com/python-encodings-guide/).\n",
    "\n",
    "Another very common built-in function is the `len()` function which tells us how many items are in its argument. If the argument is a string, it returns the number of characters in the string."
   ]
  },
  {
   "cell_type": "code",
   "execution_count": null,
   "metadata": {},
   "outputs": [],
   "source": [
    "len('Hellow World')"
   ]
  },
  {
   "cell_type": "markdown",
   "metadata": {},
   "source": [
    "## Type conversion functions\n",
    "\n",
    "Python also provides built-in functions that convert values from one type to another.\n",
    "\n",
    "- `int()`  converts it to an integer, if it can, or complains otherwise;\n",
    "- `float()`converts integers and strings to floating-point numbers;\n",
    "- `str()`  converts its argument to a string."
   ]
  },
  {
   "cell_type": "code",
   "execution_count": null,
   "metadata": {},
   "outputs": [],
   "source": [
    "print(int('3567'))\n",
    "print(int(3.9))"
   ]
  },
  {
   "cell_type": "code",
   "execution_count": null,
   "metadata": {},
   "outputs": [],
   "source": [
    "print(float('3.456'))\n",
    "st = str(3.456)\n",
    "print(st)"
   ]
  },
  {
   "cell_type": "markdown",
   "metadata": {},
   "source": [
    "## Math functions\n",
    "\n",
    "Python has a math module that provides most of the familiar mathematical functions. Before we can use the module, we have to import it:\n",
    "\n",
    "```python\n",
    "import math\n",
    "```\n",
    "\n",
    "To see all the functions consult: https://docs.python.org/3/library/math.html"
   ]
  },
  {
   "cell_type": "code",
   "execution_count": null,
   "metadata": {},
   "outputs": [],
   "source": [
    "import math"
   ]
  },
  {
   "cell_type": "code",
   "execution_count": null,
   "metadata": {},
   "outputs": [],
   "source": [
    "math.pi         # pi number"
   ]
  },
  {
   "cell_type": "code",
   "execution_count": null,
   "metadata": {},
   "outputs": [],
   "source": [
    "e = math.e\n",
    "e             # Euler number"
   ]
  },
  {
   "cell_type": "code",
   "execution_count": null,
   "metadata": {},
   "outputs": [],
   "source": [
    "math.log(e)   # return the natural logarithm of x (to base e)."
   ]
  },
  {
   "cell_type": "code",
   "execution_count": null,
   "metadata": {},
   "outputs": [],
   "source": [
    "math.log2(32) # Return the base-2 logarithm of x"
   ]
  },
  {
   "cell_type": "markdown",
   "metadata": {},
   "source": [
    "## Random numbers\n",
    "\n",
    "\n",
    "Given the same inputs, most computer programs generate the same outputs every time, so they are said to be deterministic. Determinism is usually a good thing, since we expect the same calculation to yield the same result. For some applications, though, we want the computer to be unpredictable. Games are an obvious example, but there are more.\n",
    "\n",
    "The `function random` returns a random float between 0.0 and 1.0 (including 0.0 but not 1.0). Each time you call random, you get the next number in a long series. To see a sample, run this loop:\n",
    "\n",
    "```python\n",
    "for i in range(10):\n",
    "    x = random.random() \n",
    "    print(x)\n",
    "```\n",
    "\n",
    "For more details, see: [random — Generate pseudo-random numbers](https://docs.python.org/3/library/random.html)"
   ]
  },
  {
   "cell_type": "code",
   "execution_count": null,
   "metadata": {},
   "outputs": [],
   "source": [
    "import random\n",
    "\n",
    "for i in range(10):\n",
    "    x = random.random() \n",
    "    print(x)\n",
    "\n",
    "random.random()"
   ]
  },
  {
   "cell_type": "markdown",
   "metadata": {},
   "source": [
    "The `function randint` takes the parameters low and high, and returns an integer between low and high (including both). To choose an element from a sequence at random, you can use `choice`."
   ]
  },
  {
   "cell_type": "code",
   "execution_count": null,
   "metadata": {},
   "outputs": [],
   "source": [
    "random.randint(2, 10)"
   ]
  },
  {
   "cell_type": "code",
   "execution_count": null,
   "metadata": {},
   "outputs": [],
   "source": [
    "l = [1,3,5,7,9]  \n",
    "random.choice(l)   # Return a random element from a list."
   ]
  },
  {
   "cell_type": "markdown",
   "metadata": {},
   "source": [
    "## Adding new functions\n",
    "\n",
    "So far, we have only been using the functions that come with Python, but it is also possible to add new functions. A function definition specifies the name of a new function and the sequence of statements that execute when the function is called. Once we define a function, we can reuse the function over and over throughout our program.\n",
    "\n",
    "Here is an example:\n",
    "\n",
    "```python\n",
    "def fahr_to_celsius(temp):\n",
    "    return ((temp - 32) * (5/9))\n",
    "```\n",
    "\n",
    "The function definition opens with the keyword def followed by the name of the function `(fahr_to_celsius)` and a parenthesized list of parameter names `(temp)`. The body of the function — the statements that are executed when it runs — is indented below the definition line. The body concludes with a `return` keyword followed by the return value.\n",
    "\n",
    "<img src=\"images/function.png\" style=\"width:350px;height:160px;\">\n",
    "\n",
    "source: https://swcarpentry.github.io/python-novice-inflammation/08-func/index.html\n",
    "        "
   ]
  },
  {
   "cell_type": "code",
   "execution_count": null,
   "metadata": {},
   "outputs": [],
   "source": [
    "def fahr_to_celsius(temp):\n",
    "    return ((temp - 32) * (5/9))"
   ]
  },
  {
   "cell_type": "code",
   "execution_count": null,
   "metadata": {},
   "outputs": [],
   "source": [
    "fahr_to_celsius(25)"
   ]
  },
  {
   "cell_type": "code",
   "execution_count": null,
   "metadata": {},
   "outputs": [],
   "source": [
    "type(fahr_to_celsius)"
   ]
  },
  {
   "cell_type": "markdown",
   "metadata": {},
   "source": [
    "Once you have defined a function, you can use it inside another function. For example, we can improve our function by making it returns a floating-point number rounded to the specified number of decimals."
   ]
  },
  {
   "cell_type": "code",
   "execution_count": null,
   "metadata": {},
   "outputs": [],
   "source": [
    "def fahr_to_celsius_round(temp, ndigits):\n",
    "    tempF = fahr_to_celsius(temp)       # fahr_to_celsius() created for us a few cells above\n",
    "    tempF = round(tempF, ndigits)       # Python round() Function\n",
    "    return tempF "
   ]
  },
  {
   "cell_type": "code",
   "execution_count": null,
   "metadata": {},
   "outputs": [],
   "source": [
    "fahr_to_celsius_round(25, 2)"
   ]
  },
  {
   "cell_type": "markdown",
   "metadata": {},
   "source": [
    "## Why functions?\n",
    "\n",
    "It may not be clear why it is worth the trouble to divide a program into functions. There are several reasons:\n",
    "\n",
    "- Creating a new function gives you an opportunity to name a group of statements, which makes your program easier to read, understand, and debug.\n",
    "\n",
    "- Functions can make a program smaller by eliminating repetitive code. Later, if you make a change, you only have to make it in one place.\n",
    "\n",
    "- Dividing a long program into functions allows you to debug the parts one at a time and then assemble them into a working whole.\n",
    "\n",
    "- Well-designed functions are often useful for many programs. Once you write and debug one, you can reuse it."
   ]
  },
  {
   "cell_type": "markdown",
   "metadata": {},
   "source": [
    "## Exercise\n",
    "\n",
    "**Exercise 1.** \n",
    "\n",
    "What will the following Python program print out?\n",
    "\n",
    "```python\n",
    "def fred(): \n",
    "    print(\"Zap\")\n",
    "\n",
    "def jane(): \n",
    "    print(\"ABC\")\n",
    "    \n",
    "jane( )\n",
    "fred( )\n",
    "jane( )\n",
    "```\n",
    "\n",
    "a) Zap ABC jane fred jane b) Zap ABC Zap\n",
    "\n",
    "c) ABC Zap jane\n",
    "\n",
    "d) ABC Zap ABC\n",
    "\n",
    "e) Zap Zap Zap"
   ]
  },
  {
   "cell_type": "markdown",
   "metadata": {},
   "source": [
    "**Exercise 2.**\n",
    "\n",
    "The Collatz conjecture is a conjecture in mathematics that concerns a sequence defined as follows: start with any positive integer `n`. Then each term is obtained from the previous term as follows: if the previous term is even, the next term is `one half` of the previous term. If the previous term is odd, the next term is `3 times the previous term plus 1`. The conjecture is that no matter what value of `n`, the sequence will always reach 1.\n",
    "\n",
    "Write a function named `collatz()` that has one parameter named `number`. If number is even, then `collatz()` should print `number // 2` and `return` this value. If the `number` is odd, then `collatz()` should print and return `3*number + 1`.\n",
    "\n",
    "Then write a function named `collatz_sequence()` that call `collatz()` until it returns the value 1.\n",
    "```python\n",
    "def collatz(number):\n",
    "    if ________ :\n",
    "        print(number)\n",
    "        return number\n",
    "    else:\n",
    "        ____________\n",
    "        print(number)\n",
    "        return number\n",
    "\n",
    "def collatz_sequence(number):\n",
    "    while __________ :\n",
    "          __________\n",
    "```\n"
   ]
  },
  {
   "cell_type": "markdown",
   "metadata": {},
   "source": [
    "### References:\n",
    "\n",
    "- Python for Everybody Exploring Data Using Python 3 by Dr. Charles R. Severance\n",
    "- [software-carpentry](https://swcarpentry.github.io/python-novice-inflammation/08-func/index.html)"
   ]
  },
  {
   "cell_type": "markdown",
   "metadata": {},
   "source": [
    "<img align=\"right\" src=\"images/logo.png\" style=\"width:50px;height:50px;\">"
   ]
  }
 ],
 "metadata": {
  "kernelspec": {
   "display_name": "Python 3",
   "language": "python",
   "name": "python3"
  },
  "language_info": {
   "codemirror_mode": {
    "name": "ipython",
    "version": 3
   },
   "file_extension": ".py",
   "mimetype": "text/x-python",
   "name": "python",
   "nbconvert_exporter": "python",
   "pygments_lexer": "ipython3",
   "version": "3.7.3"
  }
 },
 "nbformat": 4,
 "nbformat_minor": 4
}
