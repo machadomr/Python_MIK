{
 "cells": [
  {
   "cell_type": "markdown",
   "metadata": {},
   "source": [
    "<img src=\"images/MIK.png\" style=\"width:375px;height:200px;\">"
   ]
  },
  {
   "cell_type": "markdown",
   "metadata": {},
   "source": [
    "## <center> MIK - Python for beginners: Conditional Statements</center>\n",
    "### <center>by Ivaldo Tributino and Marcos Machado</center>"
   ]
  },
  {
   "cell_type": "markdown",
   "metadata": {},
   "source": [
    "## Comparison Operators: 1) Boolean expressions\n",
    "\n",
    "A `Boolean expression` is a logical statement that is either TRUE or FALSE. Boolean expressions can compare data of any type as long as both parts of the expression have the same basic data type. The following examples use the operator `==`, which compares two operands and produces `True` if they are equal and `False` otherwise:"
   ]
  },
  {
   "cell_type": "code",
   "execution_count": null,
   "metadata": {},
   "outputs": [],
   "source": [
    "10 == 10"
   ]
  },
  {
   "cell_type": "code",
   "execution_count": null,
   "metadata": {},
   "outputs": [],
   "source": [
    "\"Man\" == \"Woman\""
   ]
  },
  {
   "cell_type": "markdown",
   "metadata": {},
   "source": [
    "### Let's see others comparison Operators:\n",
    "\n",
    "<img src=\"images/table.png\" style=\"width:700px;height:200px;\">"
   ]
  },
  {
   "cell_type": "markdown",
   "metadata": {},
   "source": [
    "## Comparison Operators: 2)  Conditional execution\n",
    "\n",
    "The `boolean expression` after the `if` statement is called the condition. We end the `if` statement with a colon character `(:)` and the line(s) after the if statement are indented. \n",
    "```python\n",
    "if condition:\n",
    "    expression\n",
    "\n",
    "```\n",
    "\n",
    "\n",
    "Let's see a example below"
   ]
  },
  {
   "cell_type": "code",
   "execution_count": null,
   "metadata": {},
   "outputs": [],
   "source": [
    "x =   # assign some values such as 4, 5, 6 and 7.\n",
    "if x == 5 : \n",
    "    print('Equals 5')  # indent\n",
    "if x > 4 :   \n",
    "    print('Greater than 4') \n",
    "if  x >= 5 :\n",
    "    print('Greater than or Equals 5') \n",
    "if x < 6 : print('Less than 6') \n",
    "if x <= 5 :\n",
    "    print('Less than or Equals 5')\n",
    "if x != 6 :\n",
    "    print('Not equal 6')"
   ]
  },
  {
   "cell_type": "markdown",
   "metadata": {},
   "source": [
    "## Alternative execution / `if-else` condition\n",
    "\n",
    "If statements are `alternative execution`, in which there are two possibilities and the conditions determine which one gets executed. The syntax looks like this:\n",
    "```python\n",
    "if x%2 == 0 :\n",
    "    print('x is even')\n",
    "else :\n",
    "    print('x is odd')\n",
    "print('All Done')    \n",
    "```\n",
    "<img src=\"images/if_else.png\" style=\"width:400px;height:300px;\">\n",
    "\n",
    "Since the condition must either be true or false, exactly one of the alternatives will be executed. The alternatives are called `branches`, because they are `branches` in the flow of execution."
   ]
  },
  {
   "cell_type": "code",
   "execution_count": null,
   "metadata": {},
   "outputs": [],
   "source": [
    "x =    # assign some values \n",
    "if x%2 == 0 :\n",
    "    print('x is even')\n",
    "else :\n",
    "    print('x is odd')\n",
    "print('All Done')    "
   ]
  },
  {
   "cell_type": "markdown",
   "metadata": {},
   "source": [
    "## Chained conditionals / if-elif-else condition\n",
    "\n",
    "Sometimes there are more than two possibilities and we need more than two branches. One way to express a computation like that is a `chained conditional`:"
   ]
  },
  {
   "cell_type": "code",
   "execution_count": null,
   "metadata": {},
   "outputs": [],
   "source": [
    "sg =   # Student grade \n",
    "\n",
    "if sg >= 88:\n",
    "    print('A')\n",
    "elif sg >= 85:    # elif is an abbreviation of “else if.”\n",
    "    print('A-')\n",
    "elif sg >= 82:\n",
    "    print('B+')    \n",
    "elif sg >= 78:\n",
    "    print('B')\n",
    "elif sg >= 75:\n",
    "    print('B-')    \n",
    "elif sg >= 72:\n",
    "    print('C+')\n",
    "elif sg >= 68:\n",
    "    print('C')\n",
    "elif sg >= 65:\n",
    "    print('C-')\n",
    "elif sg >= 62:\n",
    "    print('D+')\n",
    "elif sg >= 55:\n",
    "    print('D')     \n",
    "else:\n",
    "    print('F')"
   ]
  },
  {
   "cell_type": "markdown",
   "metadata": {},
   "source": [
    "The `elif` statement allows you to check multiple expressions for TRUE and execute a block of code as soon as one of the conditions evaluates to TRUE.\n",
    "\n",
    "Similar to the `else`, the `elif` statement is optional. However, unlike `else`, for which there can be at most one statement at the end, there can be an arbitrary number of elif statements following an `if`."
   ]
  },
  {
   "cell_type": "markdown",
   "metadata": {},
   "source": [
    "## Nested conditionals\n",
    "\n",
    "There may be a situation when you want to check for another condition after a condition resolves to true. In such a situation, you can use the nested `if` construct. We could have written the three-branch example like this:"
   ]
  },
  {
   "cell_type": "code",
   "execution_count": null,
   "metadata": {},
   "outputs": [],
   "source": [
    "x =  # assign some values such as 11 and 21\n",
    "if x > 10:\n",
    "    print(\"Above ten,\")\n",
    "    if x > 20:\n",
    "        print(\"and also above 20!\")\n",
    "    else:\n",
    "        print(\"but not above 20.\")"
   ]
  },
  {
   "cell_type": "markdown",
   "metadata": {},
   "source": [
    "The outer conditional contains two branches. The first branch contains a simple statement. The second branch contains another if statement, which has two branches of its own. Those two branches are both simple statements, although they could have been conditional statements as well."
   ]
  },
  {
   "cell_type": "markdown",
   "metadata": {},
   "source": [
    "## Catching exceptions using `try` and `except`\n",
    "\n",
    "In the last task, we had the following problem:\n",
    "\n",
    "**Write a program which prompts the user for a Fahrenheit temperature, convert the temperature to Celsius and print out the converted temperature.**\n",
    "\n",
    "```python\n",
    "temF = input(\"Enter the temperature in Fahrenheit : \")\n",
    "tF = float(temF)\n",
    "tC = (tF-32)*5/9, 2\n",
    "tC = round(tC,2)       #Function to round a number to only two decimals\n",
    "\n",
    "print(\"In Celsius : \", tC)\n",
    "\n",
    "```\n",
    "\n",
    "Take a look at the code below. What will happen if we enter a name instead of a number? We will receive a `Traceback` - ValueError: could not convert string to float.\n",
    "\n",
    "There is a conditional execution structure built into Python to handle these types of expected and unexpected errors called `“try / except”`. You can think of the try and except feature in Python as an “insurance policy” on a sequence of statements. We can rewrite our temperature converter as follows:"
   ]
  },
  {
   "cell_type": "code",
   "execution_count": null,
   "metadata": {},
   "outputs": [],
   "source": [
    "temF = input(\"Enter the temperature in Fahrenheit : \")\n",
    "\n",
    "try:                       # The try block lets you test a block of code for errors.\n",
    "    tF = int(temF)\n",
    "except:                    # The except block lets you handle the error.\n",
    "    tF = None\n",
    "    \n",
    "if tF is None:    \n",
    "    print('Please enter a number') \n",
    "else:\n",
    "    tC = (tF-32)*5/9\n",
    "    tC = round(tC,2)       # Function to round a number to only two decimals\n",
    "    print(\"In Celsius : \", tC)"
   ]
  },
  {
   "cell_type": "markdown",
   "metadata": {},
   "source": [
    "## Compound Boolean expressions\n",
    "\n",
    "Python has three Boolean operators that are typed out as plain English words:\n",
    "\n",
    "- and\n",
    "- or\n",
    "- no\n",
    "\n",
    "These operators connect Boolean expressions (and objects) to create `compound Boolean expressions`. The Python Boolean operators always take two Boolean expressions or two objects or a combination of them, so they’re considered binary operators."
   ]
  },
  {
   "cell_type": "code",
   "execution_count": null,
   "metadata": {},
   "outputs": [],
   "source": [
    "x = 2\n",
    "y = 10\n",
    "\n",
    "if x > 1 and y > 9: # intersection\n",
    "    print('Both inequalities are true.')\n",
    "else:\n",
    "    print('At least one of the inequality is false.')"
   ]
  },
  {
   "cell_type": "code",
   "execution_count": null,
   "metadata": {},
   "outputs": [],
   "source": [
    "if x > 1 or y < 9: # union\n",
    "    print('At least one of the inequality is true.')\n",
    "else:\n",
    "    print('Both inequalities are false.')"
   ]
  },
  {
   "cell_type": "code",
   "execution_count": null,
   "metadata": {},
   "outputs": [],
   "source": [
    "not(x > 1 and y > 9) # Reverse the result, returns False if the result is true"
   ]
  },
  {
   "cell_type": "markdown",
   "metadata": {},
   "source": [
    "## Exercise\n",
    "\n",
    "**1. Write a program to prompt for a score between 0.0 and 1.0. If the score is out of range, print an error message. If the score is between 0.0 and 1.0, print a grade using the following table:**\n",
    "\n",
    "\n",
    "```\n",
    "score     grade\n",
    ">= 0.9     A\n",
    ">= 0.8     B\n",
    ">= 0.7     C\n",
    ">= 0.6     D\n",
    "<0.6       F\n",
    "```\n"
   ]
  },
  {
   "cell_type": "markdown",
   "metadata": {},
   "source": [
    "**2. Draw a flowchart that represents the process below.**\n",
    "```python\n",
    "if x == y:\n",
    "    print('x and y are equal')\n",
    "else:\n",
    "    if x < y:\n",
    "        print('x is less than y')\n",
    "    else:\n",
    "        print('x is greater than or equal to y')\n",
    "```        "
   ]
  },
  {
   "cell_type": "markdown",
   "metadata": {},
   "source": [
    "#### References:\n",
    "\n",
    "- Python for Everybody Exploring Data Using Python 3 by Dr. Charles R. Severance\n",
    "- [software-carpentry](https://swcarpentry.github.io/python-novice-inflammation/08-func/index.html)"
   ]
  },
  {
   "cell_type": "markdown",
   "metadata": {},
   "source": [
    "<img align=\"right\" src=\"images/logo.png\" style=\"width:50px;height:50px;\">"
   ]
  }
 ],
 "metadata": {
  "kernelspec": {
   "display_name": "Python 3",
   "language": "python",
   "name": "python3"
  },
  "language_info": {
   "codemirror_mode": {
    "name": "ipython",
    "version": 3
   },
   "file_extension": ".py",
   "mimetype": "text/x-python",
   "name": "python",
   "nbconvert_exporter": "python",
   "pygments_lexer": "ipython3",
   "version": "3.7.3"
  }
 },
 "nbformat": 4,
 "nbformat_minor": 4
}
