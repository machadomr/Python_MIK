{
 "cells": [
  {
   "cell_type": "markdown",
   "metadata": {},
   "source": [
    "<img src=\"images/MIK.png\" style=\"width:375px;height:200px;\">"
   ]
  },
  {
   "cell_type": "markdown",
   "metadata": {},
   "source": [
    "## <center> MIK - Python for beginners: Loops and Iteration</center>\n",
    "### <center>by Ivaldo Tributino and Marcos Machado</center>"
   ]
  },
  {
   "cell_type": "markdown",
   "metadata": {},
   "source": [
    "## Updating variables\n",
    "\n",
    "A common pattern in assignment statements is an assignment statement that updates a variable, where the new value of the variable depends on the old.\n",
    "\n",
    "Before you can update a variable, you have to initialize it, usually with a simple\n",
    "assignment:"
   ]
  },
  {
   "cell_type": "code",
   "execution_count": null,
   "metadata": {},
   "outputs": [],
   "source": [
    "x = 5\n",
    "print(x)\n",
    "x = x + 1 # or x+=1\n",
    "print(x)\n",
    "x +=1\n",
    "print(x)"
   ]
  },
  {
   "cell_type": "markdown",
   "metadata": {},
   "source": [
    "Updating a variable by adding 1 is called an increment; subtracting 1 is called a decrement."
   ]
  },
  {
   "cell_type": "markdown",
   "metadata": {},
   "source": [
    "## The `while` statement\n",
    "\n",
    "A `while loop` is a programming concept that, when it's implemented, executes a piece of code over and over again while a given condition still holds true.\n",
    "\n",
    "```python\n",
    "n = 5\n",
    "while n > 0 :\n",
    "    n-=1\n",
    "    print('forever')\n",
    "    print('get me out')\n",
    "print('Free!')\n",
    "```\n",
    "\n",
    "<img src=\"images/while.png\" style=\"width:350px;height:350px;\">"
   ]
  },
  {
   "cell_type": "code",
   "execution_count": null,
   "metadata": {},
   "outputs": [],
   "source": [
    "n = 5\n",
    "while n > 0 :\n",
    "    n-=1   \n",
    "    print('forever')\n",
    "    print('get me out')\n",
    "print('Free!')"
   ]
  },
  {
   "cell_type": "markdown",
   "metadata": {},
   "source": [
    "You can almost read the `while statement` as if it were English. It means, “While `n` is greater than 0, display the strings 'forever' and 'get me out' and then reduce the value of `n` by 1. When you get to 0, exit the while statement and display the word Free!” \n",
    "\n",
    "This type of flow is called a `loop` because the third step loops back around to the top. We call each time we execute the body of the loop an iteration. For the above loop, we would say, “It had five iterations”, which means that the body of the loop was executed five times.\n",
    "\n",
    "The body of the loop should change the value of one or more variables so that eventually the condition becomes `false` and the loop terminates. We call the variable that changes each time the loop executes and controls when the loop finishes the iteration variable. If there is no iteration variable, the loop will repeat forever, resulting in an `infinite loop`, example:\n",
    "\n",
    "```python\n",
    "n = 5\n",
    "while n > 0 :\n",
    "    print('forever')\n",
    "    print('get me out')\n",
    "print('Free!')\n",
    "```\n",
    "\n",
    "This `loop` above is obviously an `infinite loop` because the logical expression on the while statement is constant `True`, `n>0`. Let's see another example:"
   ]
  },
  {
   "cell_type": "code",
   "execution_count": null,
   "metadata": {},
   "outputs": [],
   "source": [
    "while True:\n",
    "    line = input('Enter your name :') \n",
    "    if line == 'done':\n",
    "        break\n",
    "    print(line)\n",
    "print('Done!')"
   ]
  },
  {
   "cell_type": "markdown",
   "metadata": {},
   "source": [
    "## Break and Continue Statement\n",
    "\n",
    "The `loop condition` is True, which is always true, so the loop runs repeatedly until it hits the `break statement`. Use the `break statement` to exit the loop. Sometimes, you don't want to leave the loop, but just end the current iteration and immediately jump to the next iteration. In that case you can use the `continue statement` to skip to the next iteration without finishing the body of the loop for the current iteration.\n",
    "\n",
    "Here is an example of a loop that copies its input until the user types “done”, but treats lines that start with the hash character as lines not to be printed. \n",
    "\n",
    "```python\n",
    "\n",
    "while True: \n",
    "    line = input('> ')\n",
    "    if line[0] == '#' :\n",
    "        continue\n",
    "    if line == 'done' :\n",
    "        break\n",
    "    print(line)\n",
    "print('Done!')\n",
    "\n",
    "```\n",
    "\n",
    "<img src=\"images/bc_statement.png\" style=\"width:350px;height:325px;\">"
   ]
  },
  {
   "cell_type": "code",
   "execution_count": null,
   "metadata": {},
   "outputs": [],
   "source": [
    "while True:\n",
    "    line = input('> ')\n",
    "    if line[0] == '#': # \n",
    "        continue\n",
    "    if line == 'done':\n",
    "        break\n",
    "    print(line)\n",
    "print('Done!')"
   ]
  },
  {
   "cell_type": "markdown",
   "metadata": {},
   "source": [
    "All the lines are printed except the one that starts with the hash sign because when the continue is executed, it ends the current iteration and jumps back to the while statement to start the next iteration, thus skipping the print statement."
   ]
  },
  {
   "cell_type": "markdown",
   "metadata": {},
   "source": [
    "## Definite loops using `for`\n",
    "\n",
    "Sometimes we want to loop through a set of things such as a list of words, the lines in a file, or a finite list of numbers. When we have a finite list of things to loop through, we can construct a definite loop using a `for statement`. We call the `while statement` an `indefinite loop` because it simply loops until some condition becomes False, whereas the `for loop` is looping through a known set of items so it runs through as many iterations as there are items in the set. A `For` loop is shown in the example below:"
   ]
  },
  {
   "cell_type": "code",
   "execution_count": null,
   "metadata": {},
   "outputs": [],
   "source": [
    "friends = ['Lewis', 'Chesterton', 'St Thomas ', 'St Joseph']\n",
    "for friend in friends : \n",
    "    print('Happy New Year:', friend)\n",
    "print('Done!')"
   ]
  },
  {
   "cell_type": "markdown",
   "metadata": {},
   "source": [
    "In particular, friend is the `iteration variable` for the for loop. The variable friend changes for each iteration of the loop and controls when the for loop completes. The `iteration variable` steps successively through the strings stored in the friends list."
   ]
  },
  {
   "cell_type": "markdown",
   "metadata": {},
   "source": [
    "## Making “smart” loops\n",
    "\n",
    "\n",
    "- Initialize one or more variables before the loop starts\n",
    "- Perform some computation on each item in the loop body, possibly changing the variables in the body of the loop\n",
    "- Look at the resulting variables when the loop completes\n",
    "\n",
    "### Counting and summing loops\n",
    "\n",
    "For example, to count the number of items in a list, we would write the following for loop. First we set the variable count to zero, before the loop starts, then we write a for loop to run through the list. "
   ]
  },
  {
   "cell_type": "code",
   "execution_count": null,
   "metadata": {},
   "outputs": [],
   "source": [
    "count = 0\n",
    "for itervar in ['apple', 'banana', 'rice', 'coffee', 'milk', 'bread', 'fffff']:\n",
    "    count +=1 # or count +=1\n",
    "print('Count: ', count)"
   ]
  },
  {
   "cell_type": "markdown",
   "metadata": {},
   "source": [
    "Another similar `loop` that calculates the sum of the numbers in a givens et is presented below:"
   ]
  },
  {
   "cell_type": "code",
   "execution_count": null,
   "metadata": {},
   "outputs": [],
   "source": [
    "s = 0 # sum\n",
    "for num in [3, 7, 4, 6, 8, 2, 5]:\n",
    "    s = s + num # or s +=num\n",
    "print('Total: ', s)"
   ]
  },
  {
   "cell_type": "markdown",
   "metadata": {},
   "source": [
    "Now, let's use the example below to show how to use the `for loop` to find the largest value in a list or string:"
   ]
  },
  {
   "cell_type": "code",
   "execution_count": null,
   "metadata": {},
   "outputs": [],
   "source": [
    "largest = None # None is a special constant value which we can store in a variable to mark the variable as “empty”.\n",
    "\n",
    "# Before the loop starts, the largest value we have seen so far is None since we have not yet seen any values.\n",
    "\n",
    "for current in [1, 4, 74, 56, 89, 27, 5, 200, 2000]:\n",
    "    if largest is None:        # The `is` keyword is used to test if two variables refer to the same object.\n",
    "        largest = current      # set `largest` to be the first element of the list.\n",
    "    elif current > largest: \n",
    "        largest = current      # When we see a new “even larger” value we take that new value for largest.\n",
    "print('Largest:', largest)        "
   ]
  },
  {
   "cell_type": "markdown",
   "metadata": {},
   "source": [
    "Finally, the following piece of code show how to compute the smallest number, the code is very similar to the preivous one, with one small change:"
   ]
  },
  {
   "cell_type": "code",
   "execution_count": null,
   "metadata": {},
   "outputs": [],
   "source": [
    "smallest = None\n",
    "for current in [1, 4, 74, 56, 89, 27, 5]:\n",
    "    if (smallest is None) or (current < smallest): \n",
    "        smallest = current\n",
    "print('Smallest:', smallest)"
   ]
  },
  {
   "cell_type": "markdown",
   "metadata": {},
   "source": [
    "## Exercises\n",
    "\n",
    "**Exercise 1:** Write a program which repeatedly reads numbers until the user enters “done”. Once “done” is entered, print out the total, count, and average of the numbers. If the user enters anything other than a number, detect their mistake using try and except and print an error message and skip to the next number."
   ]
  },
  {
   "cell_type": "code",
   "execution_count": null,
   "metadata": {},
   "outputs": [],
   "source": [
    "count = 0\n",
    "sum = 0\n",
    "\n",
    "while True:\n",
    "    num = input('Enter a number: ')\n",
    "    if num == 'done': break\n",
    "    try:\n",
    "        num = float(num)\n",
    "    except:\n",
    "        print('Invalit Input')\n",
    "        continue\n",
    "    \n",
    "    count = count + 1                    # Increment `number` by 1\n",
    "    sum = sum + num\n",
    "print(sum, count, sum / count)   "
   ]
  },
  {
   "cell_type": "markdown",
   "metadata": {},
   "source": [
    "**Exercise 2:** Write another program that prompts for a list of numbers as above and at the end prints out both the maximum and minimum of the numbers instead of the average."
   ]
  },
  {
   "cell_type": "markdown",
   "metadata": {},
   "source": [
    "**Exercise 3:** Write a Python program to print the even numbers from a given list. \n",
    "\n",
    "Sample List : [1, 2, 3, 4, 5, 6, 7, 8, 9]\n",
    "\n",
    "Expected Result : [2, 4, 6, 8]"
   ]
  },
  {
   "cell_type": "markdown",
   "metadata": {},
   "source": [
    "#### References:\n",
    "\n",
    "- Python for Everybody Exploring Data Using Python 3 Dr. Charles R. Severance"
   ]
  },
  {
   "cell_type": "markdown",
   "metadata": {},
   "source": [
    "<img align=\"right\" src=\"images/logo.png\" style=\"width:50px;height:50px;\">"
   ]
  }
 ],
 "metadata": {
  "kernelspec": {
   "display_name": "Python 3",
   "language": "python",
   "name": "python3"
  },
  "language_info": {
   "codemirror_mode": {
    "name": "ipython",
    "version": 3
   },
   "file_extension": ".py",
   "mimetype": "text/x-python",
   "name": "python",
   "nbconvert_exporter": "python",
   "pygments_lexer": "ipython3",
   "version": "3.7.3"
  }
 },
 "nbformat": 4,
 "nbformat_minor": 4
}
